{
 "cells": [
  {
   "cell_type": "markdown",
   "id": "62f3ec2f",
   "metadata": {},
   "source": [
    "# Payer Medallion Data Pipeline\n",
    "**Clean, Modular Healthcare Data Pipeline**\n",
    "\n",
    "This notebook demonstrates a clean medallion architecture (Bronze → Silver → Gold) for healthcare payer data using modular utilities.\n"
   ]
  },
  {
   "cell_type": "markdown",
   "id": "def395fb",
   "metadata": {},
   "source": [
    "## Setup Parameters\n"
   ]
  },
  {
   "cell_type": "code",
   "execution_count": 5,
   "id": "753bc8f8",
   "metadata": {},
   "outputs": [
    {
     "data": {
      "application/vnd.jupyter.widget-view+json": {
       "model_id": "d93d8f692f6e43429363c0569f520c81",
       "version_major": 2,
       "version_minor": 0
      },
      "text/plain": [
       "Box(children=(Label(value='Catalog'), Text(value='my_catalog')))"
      ]
     },
     "metadata": {},
     "output_type": "display_data"
    },
    {
     "data": {
      "application/vnd.jupyter.widget-view+json": {
       "model_id": "79606d35128b4cdda955685027729224",
       "version_major": 2,
       "version_minor": 0
      },
      "text/plain": [
       "Box(children=(Label(value='Bronze DB'), Text(value='payer_bronze')))"
      ]
     },
     "metadata": {},
     "output_type": "display_data"
    },
    {
     "data": {
      "application/vnd.jupyter.widget-view+json": {
       "model_id": "28761020f22f4720ab7d0444b31ff117",
       "version_major": 2,
       "version_minor": 0
      },
      "text/plain": [
       "Box(children=(Label(value='Silver DB'), Text(value='payer_silver')))"
      ]
     },
     "metadata": {},
     "output_type": "display_data"
    },
    {
     "data": {
      "application/vnd.jupyter.widget-view+json": {
       "model_id": "8e8cadc99f8f4db8b094d74d67f190af",
       "version_major": 2,
       "version_minor": 0
      },
      "text/plain": [
       "Box(children=(Label(value='Gold DB'), Text(value='payer_gold')))"
      ]
     },
     "metadata": {},
     "output_type": "display_data"
    },
    {
     "name": "stdout",
     "output_type": "stream",
     "text": [
      "Catalog: my_catalog\n",
      "Bronze DB: payer_bronze\n",
      "Silver DB: payer_silver\n",
      "Gold DB: payer_gold\n"
     ]
    }
   ],
   "source": [
    "# Setup catalog and database parameters\n",
    "dbutils.widgets.text(\"catalog\", \"my_catalog\", \"Catalog\")\n",
    "dbutils.widgets.text(\"bronze_db\", \"payer_bronze\", \"Bronze DB\")\n",
    "dbutils.widgets.text(\"silver_db\", \"payer_silver\", \"Silver DB\")\n",
    "dbutils.widgets.text(\"gold_db\", \"payer_gold\", \"Gold DB\")\n",
    "\n",
    "catalog = dbutils.widgets.get(\"catalog\")\n",
    "bronze_db = dbutils.widgets.get(\"bronze_db\")\n",
    "silver_db = dbutils.widgets.get(\"silver_db\")\n",
    "gold_db = dbutils.widgets.get(\"gold_db\")\n",
    "\n",
    "print(f\"Catalog: {catalog}\")\n",
    "print(f\"Bronze DB: {bronze_db}\")\n",
    "print(f\"Silver DB: {silver_db}\")\n",
    "print(f\"Gold DB: {gold_db}\")\n"
   ]
  },
  {
   "cell_type": "markdown",
   "id": "43cd0e41",
   "metadata": {},
   "source": [
    "## Initialize Catalogs and Schemas\n"
   ]
  },
  {
   "cell_type": "code",
   "execution_count": 6,
   "id": "2f54d1ed",
   "metadata": {},
   "outputs": [
    {
     "name": "stdout",
     "output_type": "stream",
     "text": [
      "✅ Catalog and databases initialized\n"
     ]
    }
   ],
   "source": [
    "# Create catalog and databases\n",
    "spark.sql(f\"CREATE CATALOG IF NOT EXISTS {catalog}\")\n",
    "spark.sql(f\"USE CATALOG {catalog}\")\n",
    "spark.sql(f\"CREATE DATABASE IF NOT EXISTS {bronze_db}\")\n",
    "spark.sql(f\"CREATE DATABASE IF NOT EXISTS {silver_db}\")\n",
    "spark.sql(f\"CREATE DATABASE IF NOT EXISTS {gold_db}\")\n",
    "\n",
    "print(\"✅ Catalog and databases initialized\")\n"
   ]
  },
  {
   "cell_type": "markdown",
   "id": "271e797b",
   "metadata": {},
   "source": [
    "## Step 1: Extract Data Files\n",
    "**One-line file extraction using modular utilities**\n"
   ]
  },
  {
   "cell_type": "code",
   "execution_count": 7,
   "id": "6374e833",
   "metadata": {},
   "outputs": [
    {
     "name": "stdout",
     "output_type": "stream",
     "text": [
      "🚀 Starting payer data extraction...\n",
      "============================================================\n",
      "📁 Creating volume directories...\n",
      "✅ Created 6 directories\n",
      "\n",
      "📦 Extracting files using UDF...\n"
     ]
    },
    {
     "data": {
      "application/vnd.jupyter.widget-view+json": {
       "model_id": "f4e39f9c678b466c82c3210baaa5d663",
       "version_major": 2,
       "version_minor": 0
      },
      "text/plain": [
       "HBox(children=(IntProgress(value=0, bar_style='success'), Label(value='')))"
      ]
     },
     "metadata": {},
     "output_type": "display_data"
    },
    {
     "name": "stdout",
     "output_type": "stream",
     "text": [
      "UDF Results:\n",
      "Successfully extracted ZIP to temporary directory\n",
      "Successfully copied claims.csv to /Volumes/my_catalog/payer_bronze/payer/files/claims/claims.csv\n",
      "Successfully copied diagnoses.csv to /Volumes/my_catalog/payer_bronze/payer/files/diagnosis/diagnosis.csv\n",
      "Successfully copied procedures.csv to /Volumes/my_catalog/payer_bronze/payer/files/procedures/procedures.csv\n",
      "Successfully copied member.csv to /Volumes/my_catalog/payer_bronze/payer/files/members/members.csv\n",
      "Successfully copied providers.csv to /Volumes/my_catalog/payer_bronze/payer/files/providers/providers.csv\n",
      "🎉 File extraction completed successfully!\n"
     ]
    }
   ],
   "source": [
    "# Import and execute file extraction with a single function call\n",
    "import sys\n",
    "import os\n",
    "\n",
    "# Add src directory to Python path\n",
    "src_path = os.path.join(os.getcwd(), 'src')\n",
    "if src_path not in sys.path:\n",
    "    sys.path.append(src_path)\n",
    "\n",
    "# Import and execute the file extraction utility\n",
    "from file_utils import extract_payer_data\n",
    "\n",
    "extraction_results = extract_payer_data(\n",
    "    spark=spark,\n",
    "    catalog=catalog,\n",
    "    bronze_db=bronze_db\n",
    ")\n",
    "\n",
    "# Simple success check\n",
    "if extraction_results['success']:\n",
    "    print(\"🎉 File extraction completed successfully!\")\n",
    "else:\n",
    "    print(\"❌ File extraction failed. Check logs above.\")\n"
   ]
  },
  {
   "cell_type": "markdown",
   "id": "8dfca55a",
   "metadata": {},
   "source": [
    "## Step 2: Bronze Layer - Raw Data Ingestion\n",
    "**Create bronze tables from extracted files**\n"
   ]
  },
  {
   "cell_type": "code",
   "execution_count": 9,
   "id": "9f818a11",
   "metadata": {},
   "outputs": [
    {
     "name": "stdout",
     "output_type": "stream",
     "text": [
      "Creating bronze tables using DBSQL COPY INTO...\n"
     ]
    }
   ],
   "source": [
    "print(\"Creating bronze tables using DBSQL COPY INTO...\")\n"
   ]
  },
  {
   "cell_type": "code",
   "execution_count": null,
   "metadata": {
    "vscode": {
     "languageId": "sql"
    }
   },
   "outputs": [
    {
     "data": {
      "application/vnd.jupyter.widget-view+json": {
       "model_id": "5b0d483ba5e34a1eaeec18e6210bb8ab",
       "version_major": 2,
       "version_minor": 0
      },
      "text/plain": [
       "HBox(children=(IntProgress(value=0, bar_style='success'), Label(value='')))"
      ]
     },
     "metadata": {},
     "output_type": "display_data"
    },
    {
     "data": {
      "text/html": [
       "<table border=\"1\" class=\"dataframe\">\n",
       "  <thead>\n",
       "    <tr style=\"text-align: right;\">\n",
       "      <th></th>\n",
       "      <th>num_affected_rows</th>\n",
       "      <th>num_inserted_rows</th>\n",
       "      <th>num_skipped_corrupt_files</th>\n",
       "    </tr>\n",
       "  </thead>\n",
       "  <tbody>\n",
       "    <tr>\n",
       "      <th>0</th>\n",
       "      <td>8</td>\n",
       "      <td>8</td>\n",
       "      <td>0</td>\n",
       "    </tr>\n",
       "  </tbody>\n",
       "</table>"
      ],
      "text/plain": [
       "DataFrame[num_affected_rows: bigint, num_inserted_rows: bigint, num_skipped_corrupt_files: int]"
      ]
     },
     "execution_count": 11,
     "metadata": {},
     "output_type": "execute_result"
    }
   ],
   "source": [
    "%sql\n",
    "-- Create Claims Bronze Table\n",
    "CREATE TABLE IF NOT EXISTS payer_bronze.claims_raw;\n",
    "COPY INTO payer_bronze.claims_raw FROM '/Volumes/my_catalog/payer_bronze/payer/files/claims/claims.csv'\n",
    "FILEFORMAT = CSV\n",
    "FORMAT_OPTIONS('header' = 'true', 'inferSchema' = 'true', 'delimiter' = ',')\n",
    "COPY_OPTIONS ('mergeSchema' = 'true');\n"
   ]
  },
  {
   "cell_type": "code",
   "execution_count": 12,
   "id": "88d3d00f",
   "metadata": {
    "vscode": {
     "languageId": "sql"
    }
   },
   "outputs": [
    {
     "data": {
      "application/vnd.jupyter.widget-view+json": {
       "model_id": "71522b82f81f47adaf787db864d952b2",
       "version_major": 2,
       "version_minor": 0
      },
      "text/plain": [
       "HBox(children=(IntProgress(value=0, bar_style='success'), Label(value='')))"
      ]
     },
     "metadata": {},
     "output_type": "display_data"
    },
    {
     "data": {
      "text/html": [
       "<table border=\"1\" class=\"dataframe\">\n",
       "  <thead>\n",
       "    <tr style=\"text-align: right;\">\n",
       "      <th></th>\n",
       "      <th>num_affected_rows</th>\n",
       "      <th>num_inserted_rows</th>\n",
       "      <th>num_skipped_corrupt_files</th>\n",
       "    </tr>\n",
       "  </thead>\n",
       "  <tbody>\n",
       "    <tr>\n",
       "      <th>0</th>\n",
       "      <td>15</td>\n",
       "      <td>15</td>\n",
       "      <td>0</td>\n",
       "    </tr>\n",
       "  </tbody>\n",
       "</table>"
      ],
      "text/plain": [
       "DataFrame[num_affected_rows: bigint, num_inserted_rows: bigint, num_skipped_corrupt_files: int]"
      ]
     },
     "execution_count": 12,
     "metadata": {},
     "output_type": "execute_result"
    }
   ],
   "source": [
    "%sql\n",
    "-- Create Members Bronze Table\n",
    "CREATE TABLE IF NOT EXISTS payer_bronze.members_raw;\n",
    "COPY INTO payer_bronze.members_raw FROM '/Volumes/my_catalog/payer_bronze/payer/files/members/members.csv'\n",
    "FILEFORMAT = CSV\n",
    "FORMAT_OPTIONS('header' = 'true', 'inferSchema' = 'true', 'delimiter' = ',')\n",
    "COPY_OPTIONS ('mergeSchema' = 'true');\n"
   ]
  },
  {
   "cell_type": "code",
   "execution_count": 13,
   "id": "3e68dd3f",
   "metadata": {
    "vscode": {
     "languageId": "sql"
    }
   },
   "outputs": [
    {
     "data": {
      "application/vnd.jupyter.widget-view+json": {
       "model_id": "0c828fa75e2549f8ac9691cd43427446",
       "version_major": 2,
       "version_minor": 0
      },
      "text/plain": [
       "HBox(children=(IntProgress(value=0, bar_style='success'), Label(value='')))"
      ]
     },
     "metadata": {},
     "output_type": "display_data"
    },
    {
     "data": {
      "text/html": [
       "<table border=\"1\" class=\"dataframe\">\n",
       "  <thead>\n",
       "    <tr style=\"text-align: right;\">\n",
       "      <th></th>\n",
       "      <th>num_affected_rows</th>\n",
       "      <th>num_inserted_rows</th>\n",
       "      <th>num_skipped_corrupt_files</th>\n",
       "    </tr>\n",
       "  </thead>\n",
       "  <tbody>\n",
       "    <tr>\n",
       "      <th>0</th>\n",
       "      <td>5</td>\n",
       "      <td>5</td>\n",
       "      <td>0</td>\n",
       "    </tr>\n",
       "  </tbody>\n",
       "</table>"
      ],
      "text/plain": [
       "DataFrame[num_affected_rows: bigint, num_inserted_rows: bigint, num_skipped_corrupt_files: int]"
      ]
     },
     "execution_count": 13,
     "metadata": {},
     "output_type": "execute_result"
    }
   ],
   "source": [
    "%sql\n",
    "-- Create Providers Bronze Table\n",
    "CREATE TABLE IF NOT EXISTS payer_bronze.providers_raw;\n",
    "COPY INTO payer_bronze.providers_raw FROM '/Volumes/my_catalog/payer_bronze/payer/files/providers/providers.csv'\n",
    "FILEFORMAT = CSV\n",
    "FORMAT_OPTIONS('header' = 'true', 'inferSchema' = 'true', 'delimiter' = ',')\n",
    "COPY_OPTIONS ('mergeSchema' = 'true');\n"
   ]
  },
  {
   "cell_type": "code",
   "execution_count": 14,
   "id": "72740cd8",
   "metadata": {
    "vscode": {
     "languageId": "sql"
    }
   },
   "outputs": [
    {
     "data": {
      "application/vnd.jupyter.widget-view+json": {
       "model_id": "3844aa8df0ec4052bd6bd5249d7e626e",
       "version_major": 2,
       "version_minor": 0
      },
      "text/plain": [
       "HBox(children=(IntProgress(value=0, bar_style='success'), Label(value='')))"
      ]
     },
     "metadata": {},
     "output_type": "display_data"
    },
    {
     "data": {
      "text/html": [
       "<table border=\"1\" class=\"dataframe\">\n",
       "  <thead>\n",
       "    <tr style=\"text-align: right;\">\n",
       "      <th></th>\n",
       "      <th>num_affected_rows</th>\n",
       "      <th>num_inserted_rows</th>\n",
       "      <th>num_skipped_corrupt_files</th>\n",
       "    </tr>\n",
       "  </thead>\n",
       "  <tbody>\n",
       "    <tr>\n",
       "      <th>0</th>\n",
       "      <td>9</td>\n",
       "      <td>9</td>\n",
       "      <td>0</td>\n",
       "    </tr>\n",
       "  </tbody>\n",
       "</table>"
      ],
      "text/plain": [
       "DataFrame[num_affected_rows: bigint, num_inserted_rows: bigint, num_skipped_corrupt_files: int]"
      ]
     },
     "execution_count": 14,
     "metadata": {},
     "output_type": "execute_result"
    }
   ],
   "source": [
    "%sql\n",
    "-- Create Diagnosis Bronze Table  \n",
    "CREATE TABLE IF NOT EXISTS payer_bronze.diagnosis_raw;\n",
    "COPY INTO payer_bronze.diagnosis_raw FROM '/Volumes/my_catalog/payer_bronze/payer/files/diagnosis/diagnosis.csv'\n",
    "FILEFORMAT = CSV\n",
    "FORMAT_OPTIONS('header' = 'true', 'inferSchema' = 'true', 'delimiter' = ',')\n",
    "COPY_OPTIONS ('mergeSchema' = 'true');\n"
   ]
  },
  {
   "cell_type": "code",
   "execution_count": 15,
   "id": "d6ff68b1",
   "metadata": {
    "vscode": {
     "languageId": "sql"
    }
   },
   "outputs": [
    {
     "data": {
      "application/vnd.jupyter.widget-view+json": {
       "model_id": "eed9b684b1304f318c6ea12bfe278c62",
       "version_major": 2,
       "version_minor": 0
      },
      "text/plain": [
       "HBox(children=(IntProgress(value=0, bar_style='success'), Label(value='')))"
      ]
     },
     "metadata": {},
     "output_type": "display_data"
    },
    {
     "data": {
      "text/html": [
       "<table border=\"1\" class=\"dataframe\">\n",
       "  <thead>\n",
       "    <tr style=\"text-align: right;\">\n",
       "      <th></th>\n",
       "      <th>num_affected_rows</th>\n",
       "      <th>num_inserted_rows</th>\n",
       "      <th>num_skipped_corrupt_files</th>\n",
       "    </tr>\n",
       "  </thead>\n",
       "  <tbody>\n",
       "    <tr>\n",
       "      <th>0</th>\n",
       "      <td>7</td>\n",
       "      <td>7</td>\n",
       "      <td>0</td>\n",
       "    </tr>\n",
       "  </tbody>\n",
       "</table>"
      ],
      "text/plain": [
       "DataFrame[num_affected_rows: bigint, num_inserted_rows: bigint, num_skipped_corrupt_files: int]"
      ]
     },
     "execution_count": 15,
     "metadata": {},
     "output_type": "execute_result"
    }
   ],
   "source": [
    "%sql\n",
    "-- Create Procedures Bronze Table\n",
    "CREATE TABLE IF NOT EXISTS payer_bronze.procedures_raw;\n",
    "COPY INTO payer_bronze.procedures_raw FROM '/Volumes/my_catalog/payer_bronze/payer/files/procedures/procedures.csv'\n",
    "FILEFORMAT = CSV\n",
    "FORMAT_OPTIONS('header' = 'true', 'inferSchema' = 'true', 'delimiter' = ',')\n",
    "COPY_OPTIONS ('mergeSchema' = 'true');\n"
   ]
  },
  {
   "cell_type": "markdown",
   "id": "ef7a2288",
   "metadata": {},
   "source": [
    "## Step 3: Silver Layer - Cleaned and Conformed Data\n",
    "**Transform bronze data into clean, analytics-ready tables**\n"
   ]
  },
  {
   "cell_type": "code",
   "execution_count": 16,
   "id": "f4379ab0",
   "metadata": {},
   "outputs": [
    {
     "data": {
      "application/vnd.jupyter.widget-view+json": {
       "model_id": "65a53a163145402fbd48f0b0e4aba4a5",
       "version_major": 2,
       "version_minor": 0
      },
      "text/plain": [
       "HBox(children=(IntProgress(value=0, bar_style='success'), Label(value='')))"
      ]
     },
     "metadata": {},
     "output_type": "display_data"
    },
    {
     "data": {
      "text/html": [
       "<table border=\"1\" class=\"dataframe\">\n",
       "  <thead>\n",
       "    <tr style=\"text-align: right;\">\n",
       "      <th></th>\n",
       "      <th>num_affected_rows</th>\n",
       "      <th>num_inserted_rows</th>\n",
       "    </tr>\n",
       "  </thead>\n",
       "  <tbody>\n",
       "  </tbody>\n",
       "</table>"
      ],
      "text/plain": [
       "DataFrame[num_affected_rows: bigint, num_inserted_rows: bigint]"
      ]
     },
     "execution_count": 16,
     "metadata": {},
     "output_type": "execute_result"
    }
   ],
   "source": [
    "%sql\n",
    "-- Clean and transform members data\n",
    "CREATE OR REPLACE TABLE payer_silver.members AS\n",
    "SELECT\n",
    "  DISTINCT CAST(member_id AS STRING) AS member_id,\n",
    "  TRIM(first_name) AS first_name,\n",
    "  TRIM(last_name) AS last_name,\n",
    "  CAST(birth_date AS DATE) AS birth_date,\n",
    "  gender,\n",
    "  plan_id,\n",
    "  CAST(effective_date AS DATE) AS effective_date\n",
    "FROM payer_bronze.members_raw\n",
    "WHERE member_id IS NOT NULL\n"
   ]
  },
  {
   "cell_type": "code",
   "execution_count": 17,
   "id": "9e1275d3",
   "metadata": {},
   "outputs": [
    {
     "data": {
      "application/vnd.jupyter.widget-view+json": {
       "model_id": "09318c3a4f18428ba1b319dfabc711a3",
       "version_major": 2,
       "version_minor": 0
      },
      "text/plain": [
       "HBox(children=(IntProgress(value=0, bar_style='success'), Label(value='')))"
      ]
     },
     "metadata": {},
     "output_type": "display_data"
    },
    {
     "data": {
      "text/html": [
       "<table border=\"1\" class=\"dataframe\">\n",
       "  <thead>\n",
       "    <tr style=\"text-align: right;\">\n",
       "      <th></th>\n",
       "      <th>num_affected_rows</th>\n",
       "      <th>num_inserted_rows</th>\n",
       "    </tr>\n",
       "  </thead>\n",
       "  <tbody>\n",
       "  </tbody>\n",
       "</table>"
      ],
      "text/plain": [
       "DataFrame[num_affected_rows: bigint, num_inserted_rows: bigint]"
      ]
     },
     "execution_count": 17,
     "metadata": {},
     "output_type": "execute_result"
    }
   ],
   "source": [
    "%sql\n",
    "-- Clean and transform claims data\n",
    "CREATE OR REPLACE TABLE payer_silver.claims AS\n",
    "SELECT\n",
    "  DISTINCT claim_id,\n",
    "  member_id,\n",
    "  provider_id,\n",
    "  CAST(claim_date AS DATE) AS claim_date,\n",
    "  ROUND(total_charge, 2) AS total_charge,\n",
    "  LOWER(claim_status) AS claim_status\n",
    "FROM payer_bronze.claims_raw\n",
    "WHERE claim_id IS NOT NULL AND total_charge > 0\n"
   ]
  },
  {
   "cell_type": "code",
   "execution_count": 18,
   "id": "32800517",
   "metadata": {},
   "outputs": [
    {
     "data": {
      "application/vnd.jupyter.widget-view+json": {
       "model_id": "24d1d0e7479746a0b5d433050bc1a7e4",
       "version_major": 2,
       "version_minor": 0
      },
      "text/plain": [
       "HBox(children=(IntProgress(value=0, bar_style='success'), Label(value='')))"
      ]
     },
     "metadata": {},
     "output_type": "display_data"
    },
    {
     "data": {
      "text/html": [
       "<table border=\"1\" class=\"dataframe\">\n",
       "  <thead>\n",
       "    <tr style=\"text-align: right;\">\n",
       "      <th></th>\n",
       "      <th>num_affected_rows</th>\n",
       "      <th>num_inserted_rows</th>\n",
       "    </tr>\n",
       "  </thead>\n",
       "  <tbody>\n",
       "  </tbody>\n",
       "</table>"
      ],
      "text/plain": [
       "DataFrame[num_affected_rows: bigint, num_inserted_rows: bigint]"
      ]
     },
     "execution_count": 18,
     "metadata": {},
     "output_type": "execute_result"
    }
   ],
   "source": [
    "%sql\n",
    "-- Clean and transform providers data\n",
    "CREATE OR REPLACE TABLE payer_silver.providers AS\n",
    "SELECT\n",
    "  DISTINCT provider_id,\n",
    "  npi,\n",
    "  provider_name,\n",
    "  specialty,\n",
    "  address,\n",
    "  city,\n",
    "  state\n",
    "FROM payer_bronze.providers_raw\n",
    "WHERE provider_id IS NOT NULL\n"
   ]
  },
  {
   "cell_type": "markdown",
   "id": "4fa4471a",
   "metadata": {},
   "source": [
    "## Step 4: Gold Layer - Business-Ready Analytics Tables\n",
    "**Create enriched, aggregated tables for analytics and reporting**\n"
   ]
  },
  {
   "cell_type": "code",
   "execution_count": 19,
   "id": "a5cbf1aa",
   "metadata": {},
   "outputs": [
    {
     "data": {
      "application/vnd.jupyter.widget-view+json": {
       "model_id": "d04f98ab4d444dedb821fab309e1b3da",
       "version_major": 2,
       "version_minor": 0
      },
      "text/plain": [
       "HBox(children=(IntProgress(value=0, bar_style='success'), Label(value='')))"
      ]
     },
     "metadata": {},
     "output_type": "display_data"
    },
    {
     "data": {
      "text/html": [
       "<table border=\"1\" class=\"dataframe\">\n",
       "  <thead>\n",
       "    <tr style=\"text-align: right;\">\n",
       "      <th></th>\n",
       "      <th>num_affected_rows</th>\n",
       "      <th>num_inserted_rows</th>\n",
       "    </tr>\n",
       "  </thead>\n",
       "  <tbody>\n",
       "  </tbody>\n",
       "</table>"
      ],
      "text/plain": [
       "DataFrame[num_affected_rows: bigint, num_inserted_rows: bigint]"
      ]
     },
     "execution_count": 19,
     "metadata": {},
     "output_type": "execute_result"
    }
   ],
   "source": [
    "%sql\n",
    "-- Create enriched claims table with member and provider details\n",
    "CREATE OR REPLACE TABLE payer_gold.claims_enriched AS\n",
    "SELECT\n",
    "  c.claim_id,\n",
    "  c.claim_date,\n",
    "  c.total_charge,\n",
    "  c.claim_status,\n",
    "  m.member_id,\n",
    "  m.first_name,\n",
    "  m.last_name,\n",
    "  m.gender,\n",
    "  m.plan_id,\n",
    "  p.provider_id,\n",
    "  p.provider_name,\n",
    "  p.specialty,\n",
    "  p.city,\n",
    "  p.state\n",
    "FROM payer_silver.claims c\n",
    "INNER JOIN payer_silver.members m ON c.member_id = m.member_id\n",
    "INNER JOIN payer_silver.providers p ON c.provider_id = p.provider_id\n"
   ]
  },
  {
   "cell_type": "code",
   "execution_count": 20,
   "id": "738a2c23",
   "metadata": {},
   "outputs": [
    {
     "data": {
      "application/vnd.jupyter.widget-view+json": {
       "model_id": "9f456551d59b4c869534243fa08f4229",
       "version_major": 2,
       "version_minor": 0
      },
      "text/plain": [
       "HBox(children=(IntProgress(value=0, bar_style='success'), Label(value='')))"
      ]
     },
     "metadata": {},
     "output_type": "display_data"
    },
    {
     "data": {
      "text/html": [
       "<table border=\"1\" class=\"dataframe\">\n",
       "  <thead>\n",
       "    <tr style=\"text-align: right;\">\n",
       "      <th></th>\n",
       "      <th>num_affected_rows</th>\n",
       "      <th>num_inserted_rows</th>\n",
       "    </tr>\n",
       "  </thead>\n",
       "  <tbody>\n",
       "  </tbody>\n",
       "</table>"
      ],
      "text/plain": [
       "DataFrame[num_affected_rows: bigint, num_inserted_rows: bigint]"
      ]
     },
     "execution_count": 20,
     "metadata": {},
     "output_type": "execute_result"
    }
   ],
   "source": [
    "%sql\n",
    "-- Create member summary table for analytics\n",
    "CREATE OR REPLACE TABLE payer_gold.member_claim_summary AS\n",
    "SELECT\n",
    "  member_id,\n",
    "  COUNT(DISTINCT claim_id) AS total_claims,\n",
    "  SUM(total_charge) AS sum_claims,\n",
    "  AVG(total_charge) AS avg_claim_amount,\n",
    "  MAX(total_charge) AS max_claim,\n",
    "  MIN(total_charge) AS min_claim\n",
    "FROM payer_silver.claims\n",
    "GROUP BY member_id\n"
   ]
  },
  {
   "cell_type": "markdown",
   "id": "75eb598c",
   "metadata": {},
   "source": [
    "## Step 5: Verify Pipeline Results\n",
    "**Quick validation of the medallion pipeline**\n"
   ]
  },
  {
   "cell_type": "code",
   "execution_count": 21,
   "id": "b5fc2867",
   "metadata": {},
   "outputs": [
    {
     "data": {
      "application/vnd.jupyter.widget-view+json": {
       "model_id": "31b35e17d8a042ecabeb79ca03596ef9",
       "version_major": 2,
       "version_minor": 0
      },
      "text/plain": [
       "HBox(children=(IntProgress(value=0, bar_style='success'), Label(value='')))"
      ]
     },
     "metadata": {},
     "output_type": "display_data"
    },
    {
     "data": {
      "application/vnd.jupyter.widget-view+json": {
       "model_id": "fe2b663616b3421eab29d645820dd34f",
       "version_major": 2,
       "version_minor": 0
      },
      "text/plain": [
       "HBox(children=(IntProgress(value=0, bar_style='success'), Label(value='')))"
      ]
     },
     "metadata": {},
     "output_type": "display_data"
    },
    {
     "data": {
      "application/vnd.jupyter.widget-view+json": {
       "model_id": "e6c157a5d51b4c629e57f162aa73d026",
       "version_major": 2,
       "version_minor": 0
      },
      "text/plain": [
       "HBox(children=(IntProgress(value=0, bar_style='success'), Label(value='')))"
      ]
     },
     "metadata": {},
     "output_type": "display_data"
    },
    {
     "name": "stdout",
     "output_type": "stream",
     "text": [
      "📊 MEDALLION PIPELINE SUMMARY\n",
      "========================================\n",
      "🥉 Bronze Claims: 8 records\n",
      "🥈 Silver Claims: 8 records\n",
      "🥇 Gold Claims: 8 records\n",
      "\n",
      "🎉 Medallion pipeline completed successfully!\n"
     ]
    }
   ],
   "source": [
    "# Display pipeline summary\n",
    "bronze_count = spark.sql(f\"SELECT COUNT(*) as count FROM {bronze_db}.claims_raw\").collect()[0]['count']\n",
    "silver_count = spark.sql(f\"SELECT COUNT(*) as count FROM {silver_db}.claims\").collect()[0]['count']\n",
    "gold_count = spark.sql(f\"SELECT COUNT(*) as count FROM {gold_db}.claims_enriched\").collect()[0]['count']\n",
    "\n",
    "print(\"📊 MEDALLION PIPELINE SUMMARY\")\n",
    "print(\"=\" * 40)\n",
    "print(f\"🥉 Bronze Claims: {bronze_count:,} records\")\n",
    "print(f\"🥈 Silver Claims: {silver_count:,} records\")\n",
    "print(f\"🥇 Gold Claims: {gold_count:,} records\")\n",
    "print(\"\\n🎉 Medallion pipeline completed successfully!\")\n"
   ]
  },
  {
   "cell_type": "markdown",
   "id": "2d489957",
   "metadata": {},
   "source": [
    "## Step 6: Data Analysis and Visualization\n",
    "**Explore and analyze the gold layer data**\n"
   ]
  },
  {
   "cell_type": "code",
   "execution_count": null,
   "id": "67bbaa4e",
   "metadata": {},
   "outputs": [],
   "source": [
    "# Display the enriched claims table\n",
    "display(spark.table(\"payer_gold.claims_enriched\"))\n"
   ]
  },
  {
   "cell_type": "markdown",
   "id": "2ed59d67",
   "metadata": {},
   "source": [
    "### Analysis by Claim Status\n",
    "**Analyze total charges by claim status**\n"
   ]
  },
  {
   "cell_type": "code",
   "execution_count": null,
   "id": "af4ecf8c",
   "metadata": {},
   "outputs": [],
   "source": [
    "display(spark.table(\"payer_gold.claims_enriched\").groupBy(\"claim_status\").sum(\"total_charge\"))\n"
   ]
  },
  {
   "cell_type": "markdown",
   "id": "aaec866c",
   "metadata": {},
   "source": [
    "### Analysis by Gender\n",
    "**Count claims by member gender**\n"
   ]
  },
  {
   "cell_type": "code",
   "execution_count": null,
   "id": "727b1fe9",
   "metadata": {},
   "outputs": [],
   "source": [
    "display(spark.table(\"payer_gold.claims_enriched\").groupBy(\"gender\").count())\n"
   ]
  },
  {
   "cell_type": "markdown",
   "id": "ffe57579",
   "metadata": {},
   "source": [
    "### Time Series Analysis\n",
    "**Total charges by claim date**\n"
   ]
  },
  {
   "cell_type": "code",
   "execution_count": null,
   "id": "045962f1",
   "metadata": {},
   "outputs": [],
   "source": [
    "display(spark.table(\"payer_gold.claims_enriched\").groupBy(\"claim_date\").sum(\"total_charge\").orderBy(\"claim_date\"))\n"
   ]
  },
  {
   "cell_type": "markdown",
   "id": "8be0b071",
   "metadata": {},
   "source": [
    "### Geographic Analysis\n",
    "**Claims distribution by city**\n"
   ]
  },
  {
   "cell_type": "code",
   "execution_count": null,
   "id": "dade1cfc",
   "metadata": {},
   "outputs": [],
   "source": [
    "display(spark.table(\"payer_gold.claims_enriched\").groupBy(\"city\").count())\n"
   ]
  },
  {
   "cell_type": "markdown",
   "id": "04447d70",
   "metadata": {},
   "source": [
    "### Charge Distribution Analysis\n",
    "**Analyze the distribution of claim charges**\n"
   ]
  },
  {
   "cell_type": "code",
   "execution_count": null,
   "id": "911bbad0",
   "metadata": {},
   "outputs": [],
   "source": [
    "display(spark.table(\"payer_gold.claims_enriched\").select(\"total_charge\"))\n"
   ]
  },
  {
   "cell_type": "markdown",
   "id": "f9f897f7",
   "metadata": {},
   "source": [
    "### Date vs Charge Analysis\n",
    "**Relationship between claim date and total charge**\n"
   ]
  },
  {
   "cell_type": "code",
   "execution_count": null,
   "id": "7d3d2d1b",
   "metadata": {},
   "outputs": [],
   "source": [
    "display(spark.table(\"payer_gold.claims_enriched\").select(\"claim_date\", \"total_charge\"))\n"
   ]
  },
  {
   "cell_type": "markdown",
   "id": "b02a5561",
   "metadata": {},
   "source": [
    "## AI/BI Integration\n",
    "\n",
    "Intelligent analytics for everyone!\n",
    "\n",
    "Databricks AI/BI is a new type of business intelligence product designed to provide a deep understanding of your data's semantics, enabling self-service data analysis for everyone in your organization. AI/BI is built on a compound AI system that draws insights from the full lifecycle of your data across the Databricks platform, including ETL pipelines, lineage, and other queries.\n",
    "\n",
    "![AI/BI](https://www.databricks.com/sites/default/files/2025-05/hero-image-ai-bi-v2-2x.png)\n"
   ]
  },
  {
   "cell_type": "markdown",
   "id": "97ece5c5",
   "metadata": {},
   "source": [
    "## Genie - Talk with Your Data\n",
    "\n",
    "Now everyone can get insights from data simply by asking questions in natural language.\n",
    "\n",
    "![Genie](https://www.databricks.com/sites/default/files/2025-06/ai-bi-genie-hero.png)\n",
    "\n",
    "### AI Assistant Prompts\n",
    "Try asking the Databricks AI Assistant:\n",
    "* What kind of aggregations can I do with table \"payer_gold.claims_enriched\"?\n",
    "* What does \"spark.table\" command do?\n",
    "* Show me the top 5 most expensive claims\n",
    "* Which provider specialty has the highest average claim amount?\n"
   ]
  },
  {
   "cell_type": "markdown",
   "id": "6f9e2de5",
   "metadata": {},
   "source": []
  }
 ],
 "metadata": {
  "kernelspec": {
   "display_name": "azure_databricks",
   "language": "python",
   "name": "python3"
  },
  "language_info": {
   "codemirror_mode": {
    "name": "ipython",
    "version": 3
   },
   "file_extension": ".py",
   "mimetype": "text/x-python",
   "name": "python",
   "nbconvert_exporter": "python",
   "pygments_lexer": "ipython3",
   "version": "3.12.0"
  }
 },
 "nbformat": 4,
 "nbformat_minor": 5
}
