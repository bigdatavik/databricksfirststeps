{
 "cells": [
  {
   "cell_type": "markdown",
   "id": "62f3ec2f",
   "metadata": {},
   "source": [
    "# Healthcare Payer Analytics for SAS/ASA Professionals\n",
    "**Comprehensive Training Notebook - From SAS to Databricks**\n",
    "\n",
    "This notebook demonstrates advanced healthcare payer analytics using Databricks, specifically designed for analysts transitioning from SAS/ASA environments. It covers the complete medallion architecture (Bronze → Silver → Gold) with healthcare-specific business intelligence patterns.\n",
    "\n",
    "**🎯 Learning Objectives:**\n",
    "- Master medallion data architecture for healthcare data\n",
    "- Learn SAS procedure equivalents in Databricks SQL\n",
    "- Implement healthcare KPIs and risk scoring models\n",
    "- Build executive dashboards and clinical analytics\n",
    "- Understand modern AI/BI capabilities\n"
   ]
  },
  {
   "cell_type": "markdown",
   "id": "def395fb",
   "metadata": {},
   "source": [
    "## Setup Parameters\n"
   ]
  },
  {
   "cell_type": "code",
   "execution_count": 1,
   "id": "753bc8f8",
   "metadata": {},
   "outputs": [
    {
     "data": {
      "application/vnd.jupyter.widget-view+json": {
       "model_id": "acc6c5766034486a9ed7da41906b92ea",
       "version_major": 2,
       "version_minor": 0
      },
      "text/plain": [
       "Box(children=(Label(value='Catalog'), Text(value='my_catalog')))"
      ]
     },
     "metadata": {},
     "output_type": "display_data"
    },
    {
     "data": {
      "application/vnd.jupyter.widget-view+json": {
       "model_id": "0a4b96765a4f4e69ade60d33eea4887c",
       "version_major": 2,
       "version_minor": 0
      },
      "text/plain": [
       "Box(children=(Label(value='Bronze DB'), Text(value='payer_bronze')))"
      ]
     },
     "metadata": {},
     "output_type": "display_data"
    },
    {
     "data": {
      "application/vnd.jupyter.widget-view+json": {
       "model_id": "b867280060e54c059e24a3f46b714ad5",
       "version_major": 2,
       "version_minor": 0
      },
      "text/plain": [
       "Box(children=(Label(value='Silver DB'), Text(value='payer_silver')))"
      ]
     },
     "metadata": {},
     "output_type": "display_data"
    },
    {
     "data": {
      "application/vnd.jupyter.widget-view+json": {
       "model_id": "d212a553dcdd4f0c9b0dccbc62cbbcb0",
       "version_major": 2,
       "version_minor": 0
      },
      "text/plain": [
       "Box(children=(Label(value='Gold DB'), Text(value='payer_gold')))"
      ]
     },
     "metadata": {},
     "output_type": "display_data"
    },
    {
     "name": "stdout",
     "output_type": "stream",
     "text": [
      "Catalog: my_catalog\n",
      "Bronze DB: payer_bronze\n",
      "Silver DB: payer_silver\n",
      "Gold DB: payer_gold\n"
     ]
    }
   ],
   "source": [
    "# Setup catalog and database parameters\n",
    "dbutils.widgets.text(\"catalog\", \"my_catalog\", \"Catalog\")\n",
    "dbutils.widgets.text(\"bronze_db\", \"payer_bronze\", \"Bronze DB\")\n",
    "dbutils.widgets.text(\"silver_db\", \"payer_silver\", \"Silver DB\")\n",
    "dbutils.widgets.text(\"gold_db\", \"payer_gold\", \"Gold DB\")\n",
    "\n",
    "catalog = dbutils.widgets.get(\"catalog\")\n",
    "bronze_db = dbutils.widgets.get(\"bronze_db\")\n",
    "silver_db = dbutils.widgets.get(\"silver_db\")\n",
    "gold_db = dbutils.widgets.get(\"gold_db\")\n",
    "\n",
    "print(f\"Catalog: {catalog}\")\n",
    "print(f\"Bronze DB: {bronze_db}\")\n",
    "print(f\"Silver DB: {silver_db}\")\n",
    "print(f\"Gold DB: {gold_db}\")\n"
   ]
  },
  {
   "cell_type": "markdown",
   "id": "43cd0e41",
   "metadata": {},
   "source": [
    "## Initialize Catalogs and Schemas\n"
   ]
  },
  {
   "cell_type": "code",
   "execution_count": 6,
   "id": "2f54d1ed",
   "metadata": {},
   "outputs": [
    {
     "name": "stdout",
     "output_type": "stream",
     "text": [
      "✅ Catalog and databases initialized\n"
     ]
    }
   ],
   "source": [
    "# Create catalog and databases\n",
    "spark.sql(f\"CREATE CATALOG IF NOT EXISTS {catalog}\")\n",
    "spark.sql(f\"USE CATALOG {catalog}\")\n",
    "spark.sql(f\"CREATE DATABASE IF NOT EXISTS {bronze_db}\")\n",
    "spark.sql(f\"CREATE DATABASE IF NOT EXISTS {silver_db}\")\n",
    "spark.sql(f\"CREATE DATABASE IF NOT EXISTS {gold_db}\")\n",
    "\n",
    "print(\"✅ Catalog and databases initialized\")\n"
   ]
  },
  {
   "cell_type": "markdown",
   "id": "271e797b",
   "metadata": {},
   "source": [
    "## Step 1: Extract Data Files\n",
    "**One-line file extraction using modular utilities**\n"
   ]
  },
  {
   "cell_type": "code",
   "execution_count": 7,
   "id": "6374e833",
   "metadata": {},
   "outputs": [
    {
     "name": "stdout",
     "output_type": "stream",
     "text": [
      "🚀 Starting payer data extraction...\n",
      "============================================================\n",
      "📁 Creating volume directories...\n",
      "✅ Created 6 directories\n",
      "\n",
      "📦 Extracting files using UDF...\n"
     ]
    },
    {
     "data": {
      "application/vnd.jupyter.widget-view+json": {
       "model_id": "0d24101575ab4d46a0481d2797fe58dc",
       "version_major": 2,
       "version_minor": 0
      },
      "text/plain": [
       "HBox(children=(IntProgress(value=0, bar_style='success'), Label(value='')))"
      ]
     },
     "metadata": {},
     "output_type": "display_data"
    },
    {
     "name": "stdout",
     "output_type": "stream",
     "text": [
      "UDF Results:\n",
      "Successfully extracted ZIP to temporary directory\n",
      "Successfully copied claims.csv to /Volumes/my_catalog/payer_bronze/payer/files/claims/claims.csv\n",
      "Successfully copied diagnoses.csv to /Volumes/my_catalog/payer_bronze/payer/files/diagnosis/diagnosis.csv\n",
      "Successfully copied procedures.csv to /Volumes/my_catalog/payer_bronze/payer/files/procedures/procedures.csv\n",
      "Successfully copied member.csv to /Volumes/my_catalog/payer_bronze/payer/files/members/members.csv\n",
      "Successfully copied providers.csv to /Volumes/my_catalog/payer_bronze/payer/files/providers/providers.csv\n",
      "🎉 File extraction completed successfully!\n"
     ]
    }
   ],
   "source": [
    "# Import and execute file extraction with a single function call\n",
    "import sys\n",
    "import os\n",
    "\n",
    "# Add src directory to Python path\n",
    "src_path = os.path.join(os.getcwd(), 'src')\n",
    "if src_path not in sys.path:\n",
    "    sys.path.append(src_path)\n",
    "\n",
    "# Import and execute the file extraction utility\n",
    "from file_utils import extract_payer_data\n",
    "\n",
    "extraction_results = extract_payer_data(\n",
    "    spark=spark,\n",
    "    catalog=catalog,\n",
    "    bronze_db=bronze_db\n",
    ")\n",
    "\n",
    "# Simple success check\n",
    "if extraction_results['success']:\n",
    "    print(\"🎉 File extraction completed successfully!\")\n",
    "else:\n",
    "    print(\"❌ File extraction failed. Check logs above.\")\n"
   ]
  },
  {
   "cell_type": "markdown",
   "id": "8dfca55a",
   "metadata": {},
   "source": [
    "## Step 2: Bronze Layer - Raw Data Ingestion\n",
    "**Create bronze tables from extracted files**\n"
   ]
  },
  {
   "cell_type": "code",
   "execution_count": 8,
   "id": "9f818a11",
   "metadata": {},
   "outputs": [
    {
     "name": "stdout",
     "output_type": "stream",
     "text": [
      "Creating bronze tables using DBSQL COPY INTO...\n"
     ]
    }
   ],
   "source": [
    "print(\"Creating bronze tables using DBSQL COPY INTO...\")\n"
   ]
  },
  {
   "cell_type": "code",
   "execution_count": 9,
   "id": "e8cc2ee5",
   "metadata": {
    "vscode": {
     "languageId": "sql"
    }
   },
   "outputs": [
    {
     "data": {
      "application/vnd.jupyter.widget-view+json": {
       "model_id": "4133f096012d4a0eb574b112dc8d7a59",
       "version_major": 2,
       "version_minor": 0
      },
      "text/plain": [
       "HBox(children=(IntProgress(value=0, bar_style='success'), Label(value='')))"
      ]
     },
     "metadata": {},
     "output_type": "display_data"
    },
    {
     "data": {
      "text/html": [
       "<table border=\"1\" class=\"dataframe\">\n",
       "  <thead>\n",
       "    <tr style=\"text-align: right;\">\n",
       "      <th></th>\n",
       "      <th>num_affected_rows</th>\n",
       "      <th>num_inserted_rows</th>\n",
       "      <th>num_skipped_corrupt_files</th>\n",
       "    </tr>\n",
       "  </thead>\n",
       "  <tbody>\n",
       "    <tr>\n",
       "      <th>0</th>\n",
       "      <td>0</td>\n",
       "      <td>0</td>\n",
       "      <td>0</td>\n",
       "    </tr>\n",
       "  </tbody>\n",
       "</table>"
      ],
      "text/plain": [
       "DataFrame[num_affected_rows: bigint, num_inserted_rows: bigint, num_skipped_corrupt_files: int]"
      ]
     },
     "execution_count": 9,
     "metadata": {},
     "output_type": "execute_result"
    }
   ],
   "source": [
    "%sql\n",
    "-- Create Claims Bronze Table\n",
    "CREATE TABLE IF NOT EXISTS payer_bronze.claims_raw;\n",
    "COPY INTO payer_bronze.claims_raw FROM '/Volumes/my_catalog/payer_bronze/payer/files/claims/claims.csv'\n",
    "FILEFORMAT = CSV\n",
    "FORMAT_OPTIONS('header' = 'true', 'inferSchema' = 'true', 'delimiter' = ',')\n",
    "COPY_OPTIONS ('mergeSchema' = 'true');\n"
   ]
  },
  {
   "cell_type": "code",
   "execution_count": 10,
   "id": "88d3d00f",
   "metadata": {
    "vscode": {
     "languageId": "sql"
    }
   },
   "outputs": [
    {
     "data": {
      "application/vnd.jupyter.widget-view+json": {
       "model_id": "e587a128d11e4a3b86506550874ffeab",
       "version_major": 2,
       "version_minor": 0
      },
      "text/plain": [
       "HBox(children=(IntProgress(value=0, bar_style='success'), Label(value='')))"
      ]
     },
     "metadata": {},
     "output_type": "display_data"
    },
    {
     "data": {
      "text/html": [
       "<table border=\"1\" class=\"dataframe\">\n",
       "  <thead>\n",
       "    <tr style=\"text-align: right;\">\n",
       "      <th></th>\n",
       "      <th>num_affected_rows</th>\n",
       "      <th>num_inserted_rows</th>\n",
       "      <th>num_skipped_corrupt_files</th>\n",
       "    </tr>\n",
       "  </thead>\n",
       "  <tbody>\n",
       "    <tr>\n",
       "      <th>0</th>\n",
       "      <td>0</td>\n",
       "      <td>0</td>\n",
       "      <td>0</td>\n",
       "    </tr>\n",
       "  </tbody>\n",
       "</table>"
      ],
      "text/plain": [
       "DataFrame[num_affected_rows: bigint, num_inserted_rows: bigint, num_skipped_corrupt_files: int]"
      ]
     },
     "execution_count": 10,
     "metadata": {},
     "output_type": "execute_result"
    }
   ],
   "source": [
    "%sql\n",
    "-- Create Members Bronze Table\n",
    "CREATE TABLE IF NOT EXISTS payer_bronze.members_raw;\n",
    "COPY INTO payer_bronze.members_raw FROM '/Volumes/my_catalog/payer_bronze/payer/files/members/members.csv'\n",
    "FILEFORMAT = CSV\n",
    "FORMAT_OPTIONS('header' = 'true', 'inferSchema' = 'true', 'delimiter' = ',')\n",
    "COPY_OPTIONS ('mergeSchema' = 'true');\n"
   ]
  },
  {
   "cell_type": "code",
   "execution_count": 13,
   "id": "3e68dd3f",
   "metadata": {
    "vscode": {
     "languageId": "sql"
    }
   },
   "outputs": [
    {
     "data": {
      "application/vnd.jupyter.widget-view+json": {
       "model_id": "a7df6fad10d44f52a1db8cbe2caab29a",
       "version_major": 2,
       "version_minor": 0
      },
      "text/plain": [
       "HBox(children=(IntProgress(value=0, bar_style='success'), Label(value='')))"
      ]
     },
     "metadata": {},
     "output_type": "display_data"
    },
    {
     "data": {
      "text/html": [
       "<table border=\"1\" class=\"dataframe\">\n",
       "  <thead>\n",
       "    <tr style=\"text-align: right;\">\n",
       "      <th></th>\n",
       "      <th>num_affected_rows</th>\n",
       "      <th>num_inserted_rows</th>\n",
       "      <th>num_skipped_corrupt_files</th>\n",
       "    </tr>\n",
       "  </thead>\n",
       "  <tbody>\n",
       "    <tr>\n",
       "      <th>0</th>\n",
       "      <td>0</td>\n",
       "      <td>0</td>\n",
       "      <td>0</td>\n",
       "    </tr>\n",
       "  </tbody>\n",
       "</table>"
      ],
      "text/plain": [
       "DataFrame[num_affected_rows: bigint, num_inserted_rows: bigint, num_skipped_corrupt_files: int]"
      ]
     },
     "execution_count": 13,
     "metadata": {},
     "output_type": "execute_result"
    }
   ],
   "source": [
    "%sql\n",
    "-- Create Providers Bronze Table\n",
    "CREATE TABLE IF NOT EXISTS payer_bronze.providers_raw;\n",
    "COPY INTO payer_bronze.providers_raw FROM '/Volumes/my_catalog/payer_bronze/payer/files/providers/providers.csv'\n",
    "FILEFORMAT = CSV\n",
    "FORMAT_OPTIONS('header' = 'true', 'inferSchema' = 'true', 'delimiter' = ',')\n",
    "COPY_OPTIONS ('mergeSchema' = 'true');\n"
   ]
  },
  {
   "cell_type": "code",
   "execution_count": 14,
   "id": "72740cd8",
   "metadata": {
    "vscode": {
     "languageId": "sql"
    }
   },
   "outputs": [
    {
     "data": {
      "application/vnd.jupyter.widget-view+json": {
       "model_id": "b43644e459bc4d10b449a5fef9f2369b",
       "version_major": 2,
       "version_minor": 0
      },
      "text/plain": [
       "HBox(children=(IntProgress(value=0, bar_style='success'), Label(value='')))"
      ]
     },
     "metadata": {},
     "output_type": "display_data"
    },
    {
     "data": {
      "text/html": [
       "<table border=\"1\" class=\"dataframe\">\n",
       "  <thead>\n",
       "    <tr style=\"text-align: right;\">\n",
       "      <th></th>\n",
       "      <th>num_affected_rows</th>\n",
       "      <th>num_inserted_rows</th>\n",
       "      <th>num_skipped_corrupt_files</th>\n",
       "    </tr>\n",
       "  </thead>\n",
       "  <tbody>\n",
       "    <tr>\n",
       "      <th>0</th>\n",
       "      <td>0</td>\n",
       "      <td>0</td>\n",
       "      <td>0</td>\n",
       "    </tr>\n",
       "  </tbody>\n",
       "</table>"
      ],
      "text/plain": [
       "DataFrame[num_affected_rows: bigint, num_inserted_rows: bigint, num_skipped_corrupt_files: int]"
      ]
     },
     "execution_count": 14,
     "metadata": {},
     "output_type": "execute_result"
    }
   ],
   "source": [
    "%sql\n",
    "-- Create Diagnosis Bronze Table  \n",
    "CREATE TABLE IF NOT EXISTS payer_bronze.diagnosis_raw;\n",
    "COPY INTO payer_bronze.diagnosis_raw FROM '/Volumes/my_catalog/payer_bronze/payer/files/diagnosis/diagnosis.csv'\n",
    "FILEFORMAT = CSV\n",
    "FORMAT_OPTIONS('header' = 'true', 'inferSchema' = 'true', 'delimiter' = ',')\n",
    "COPY_OPTIONS ('mergeSchema' = 'true');\n"
   ]
  },
  {
   "cell_type": "code",
   "execution_count": 15,
   "id": "d6ff68b1",
   "metadata": {
    "vscode": {
     "languageId": "sql"
    }
   },
   "outputs": [
    {
     "data": {
      "application/vnd.jupyter.widget-view+json": {
       "model_id": "720210582d5c4b6b9c57398361b4d658",
       "version_major": 2,
       "version_minor": 0
      },
      "text/plain": [
       "HBox(children=(IntProgress(value=0, bar_style='success'), Label(value='')))"
      ]
     },
     "metadata": {},
     "output_type": "display_data"
    },
    {
     "ename": "KeyboardInterrupt",
     "evalue": "",
     "output_type": "error",
     "traceback": [
      "\u001b[31m---------------------------------------------------------------------------\u001b[39m",
      "\u001b[31mKeyboardInterrupt\u001b[39m                         Traceback (most recent call last)",
      "\u001b[36mCell\u001b[39m\u001b[36m \u001b[39m\u001b[32mIn[15]\u001b[39m\u001b[32m, line 8\u001b[39m\n\u001b[32m      2\u001b[39m _sqldf = spark.sql(\u001b[33m'''\u001b[39m\u001b[33m-- Create Procedures Bronze Table\u001b[39m\n\u001b[32m      3\u001b[39m \u001b[33mCREATE TABLE IF NOT EXISTS payer_bronze.procedures_raw\u001b[39m\u001b[33m'''\u001b[39m)\n\u001b[32m      4\u001b[39m _sqldf = spark.sql(\u001b[33m'''\u001b[39m\u001b[33mCOPY INTO payer_bronze.procedures_raw FROM \u001b[39m\u001b[38;5;130;01m\\'\u001b[39;00m\u001b[33m/Volumes/my_catalog/payer_bronze/payer/files/procedures/procedures.csv\u001b[39m\u001b[38;5;130;01m\\'\u001b[39;00m\n\u001b[32m      5\u001b[39m \u001b[33mFILEFORMAT = CSV\u001b[39m\n\u001b[32m      6\u001b[39m \u001b[33mFORMAT_OPTIONS(\u001b[39m\u001b[38;5;130;01m\\'\u001b[39;00m\u001b[33mheader\u001b[39m\u001b[38;5;130;01m\\'\u001b[39;00m\u001b[33m = \u001b[39m\u001b[38;5;130;01m\\'\u001b[39;00m\u001b[33mtrue\u001b[39m\u001b[38;5;130;01m\\'\u001b[39;00m\u001b[33m, \u001b[39m\u001b[38;5;130;01m\\'\u001b[39;00m\u001b[33minferSchema\u001b[39m\u001b[38;5;130;01m\\'\u001b[39;00m\u001b[33m = \u001b[39m\u001b[38;5;130;01m\\'\u001b[39;00m\u001b[33mtrue\u001b[39m\u001b[38;5;130;01m\\'\u001b[39;00m\u001b[33m, \u001b[39m\u001b[38;5;130;01m\\'\u001b[39;00m\u001b[33mdelimiter\u001b[39m\u001b[38;5;130;01m\\'\u001b[39;00m\u001b[33m = \u001b[39m\u001b[38;5;130;01m\\'\u001b[39;00m\u001b[33m,\u001b[39m\u001b[38;5;130;01m\\'\u001b[39;00m\u001b[33m)\u001b[39m\n\u001b[32m      7\u001b[39m \u001b[33mCOPY_OPTIONS (\u001b[39m\u001b[38;5;130;01m\\'\u001b[39;00m\u001b[33mmergeSchema\u001b[39m\u001b[38;5;130;01m\\'\u001b[39;00m\u001b[33m = \u001b[39m\u001b[38;5;130;01m\\'\u001b[39;00m\u001b[33mtrue\u001b[39m\u001b[38;5;130;01m\\'\u001b[39;00m\u001b[33m)\u001b[39m\u001b[33m'''\u001b[39m)\n\u001b[32m----> \u001b[39m\u001b[32m8\u001b[39m _sqldf\n",
      "\u001b[36mFile \u001b[39m\u001b[32m~/anaconda3/envs/azure_databricks/lib/python3.12/site-packages/IPython/core/displayhook.py:279\u001b[39m, in \u001b[36mDisplayHook.__call__\u001b[39m\u001b[34m(self, result)\u001b[39m\n\u001b[32m    277\u001b[39m \u001b[38;5;28mself\u001b[39m.start_displayhook()\n\u001b[32m    278\u001b[39m \u001b[38;5;28mself\u001b[39m.write_output_prompt()\n\u001b[32m--> \u001b[39m\u001b[32m279\u001b[39m format_dict, md_dict = \u001b[38;5;28;43mself\u001b[39;49m\u001b[43m.\u001b[49m\u001b[43mcompute_format_data\u001b[49m\u001b[43m(\u001b[49m\u001b[43mresult\u001b[49m\u001b[43m)\u001b[49m\n\u001b[32m    280\u001b[39m \u001b[38;5;28mself\u001b[39m.update_user_ns(result)\n\u001b[32m    281\u001b[39m \u001b[38;5;28mself\u001b[39m.fill_exec_result(result)\n",
      "\u001b[36mFile \u001b[39m\u001b[32m~/anaconda3/envs/azure_databricks/lib/python3.12/site-packages/IPython/core/displayhook.py:164\u001b[39m, in \u001b[36mDisplayHook.compute_format_data\u001b[39m\u001b[34m(self, result)\u001b[39m\n\u001b[32m    134\u001b[39m \u001b[38;5;28;01mdef\u001b[39;00m\u001b[38;5;250m \u001b[39m\u001b[34mcompute_format_data\u001b[39m(\u001b[38;5;28mself\u001b[39m, result):\n\u001b[32m    135\u001b[39m \u001b[38;5;250m    \u001b[39m\u001b[33;03m\"\"\"Compute format data of the object to be displayed.\u001b[39;00m\n\u001b[32m    136\u001b[39m \n\u001b[32m    137\u001b[39m \u001b[33;03m    The format data is a generalization of the :func:`repr` of an object.\u001b[39;00m\n\u001b[32m   (...)\u001b[39m\u001b[32m    162\u001b[39m \n\u001b[32m    163\u001b[39m \u001b[33;03m    \"\"\"\u001b[39;00m\n\u001b[32m--> \u001b[39m\u001b[32m164\u001b[39m     \u001b[38;5;28;01mreturn\u001b[39;00m \u001b[38;5;28;43mself\u001b[39;49m\u001b[43m.\u001b[49m\u001b[43mshell\u001b[49m\u001b[43m.\u001b[49m\u001b[43mdisplay_formatter\u001b[49m\u001b[43m.\u001b[49m\u001b[43mformat\u001b[49m\u001b[43m(\u001b[49m\u001b[43mresult\u001b[49m\u001b[43m)\u001b[49m\n",
      "\u001b[36mFile \u001b[39m\u001b[32m~/anaconda3/envs/azure_databricks/lib/python3.12/site-packages/IPython/core/formatters.py:238\u001b[39m, in \u001b[36mDisplayFormatter.format\u001b[39m\u001b[34m(self, obj, include, exclude)\u001b[39m\n\u001b[32m    236\u001b[39m md = \u001b[38;5;28;01mNone\u001b[39;00m\n\u001b[32m    237\u001b[39m \u001b[38;5;28;01mtry\u001b[39;00m:\n\u001b[32m--> \u001b[39m\u001b[32m238\u001b[39m     data = \u001b[43mformatter\u001b[49m\u001b[43m(\u001b[49m\u001b[43mobj\u001b[49m\u001b[43m)\u001b[49m\n\u001b[32m    239\u001b[39m \u001b[38;5;28;01mexcept\u001b[39;00m:\n\u001b[32m    240\u001b[39m     \u001b[38;5;66;03m# FIXME: log the exception\u001b[39;00m\n\u001b[32m    241\u001b[39m     \u001b[38;5;28;01mraise\u001b[39;00m\n",
      "\u001b[36mFile \u001b[39m\u001b[32m~/anaconda3/envs/azure_databricks/lib/python3.12/site-packages/decorator.py:235\u001b[39m, in \u001b[36mdecorate.<locals>.fun\u001b[39m\u001b[34m(*args, **kw)\u001b[39m\n\u001b[32m    233\u001b[39m \u001b[38;5;28;01mif\u001b[39;00m \u001b[38;5;129;01mnot\u001b[39;00m kwsyntax:\n\u001b[32m    234\u001b[39m     args, kw = fix(args, kw, sig)\n\u001b[32m--> \u001b[39m\u001b[32m235\u001b[39m \u001b[38;5;28;01mreturn\u001b[39;00m \u001b[43mcaller\u001b[49m\u001b[43m(\u001b[49m\u001b[43mfunc\u001b[49m\u001b[43m,\u001b[49m\u001b[43m \u001b[49m\u001b[43m*\u001b[49m\u001b[43m(\u001b[49m\u001b[43mextras\u001b[49m\u001b[43m \u001b[49m\u001b[43m+\u001b[49m\u001b[43m \u001b[49m\u001b[43margs\u001b[49m\u001b[43m)\u001b[49m\u001b[43m,\u001b[49m\u001b[43m \u001b[49m\u001b[43m*\u001b[49m\u001b[43m*\u001b[49m\u001b[43mkw\u001b[49m\u001b[43m)\u001b[49m\n",
      "\u001b[36mFile \u001b[39m\u001b[32m~/anaconda3/envs/azure_databricks/lib/python3.12/site-packages/IPython/core/formatters.py:282\u001b[39m, in \u001b[36mcatch_format_error\u001b[39m\u001b[34m(method, self, *args, **kwargs)\u001b[39m\n\u001b[32m    280\u001b[39m \u001b[38;5;250m\u001b[39m\u001b[33;03m\"\"\"show traceback on failed format call\"\"\"\u001b[39;00m\n\u001b[32m    281\u001b[39m \u001b[38;5;28;01mtry\u001b[39;00m:\n\u001b[32m--> \u001b[39m\u001b[32m282\u001b[39m     r = \u001b[43mmethod\u001b[49m\u001b[43m(\u001b[49m\u001b[38;5;28;43mself\u001b[39;49m\u001b[43m,\u001b[49m\u001b[43m \u001b[49m\u001b[43m*\u001b[49m\u001b[43margs\u001b[49m\u001b[43m,\u001b[49m\u001b[43m \u001b[49m\u001b[43m*\u001b[49m\u001b[43m*\u001b[49m\u001b[43mkwargs\u001b[49m\u001b[43m)\u001b[49m\n\u001b[32m    283\u001b[39m \u001b[38;5;28;01mexcept\u001b[39;00m \u001b[38;5;167;01mNotImplementedError\u001b[39;00m:\n\u001b[32m    284\u001b[39m     \u001b[38;5;66;03m# don't warn on NotImplementedErrors\u001b[39;00m\n\u001b[32m    285\u001b[39m     \u001b[38;5;28;01mreturn\u001b[39;00m \u001b[38;5;28mself\u001b[39m._check_return(\u001b[38;5;28;01mNone\u001b[39;00m, args[\u001b[32m0\u001b[39m])\n",
      "\u001b[36mFile \u001b[39m\u001b[32m~/anaconda3/envs/azure_databricks/lib/python3.12/site-packages/IPython/core/formatters.py:402\u001b[39m, in \u001b[36mBaseFormatter.__call__\u001b[39m\u001b[34m(self, obj)\u001b[39m\n\u001b[32m    400\u001b[39m     \u001b[38;5;28;01mpass\u001b[39;00m\n\u001b[32m    401\u001b[39m \u001b[38;5;28;01melse\u001b[39;00m:\n\u001b[32m--> \u001b[39m\u001b[32m402\u001b[39m     \u001b[38;5;28;01mreturn\u001b[39;00m \u001b[43mprinter\u001b[49m\u001b[43m(\u001b[49m\u001b[43mobj\u001b[49m\u001b[43m)\u001b[49m\n\u001b[32m    403\u001b[39m \u001b[38;5;66;03m# Finally look for special method names\u001b[39;00m\n\u001b[32m    404\u001b[39m method = get_real_method(obj, \u001b[38;5;28mself\u001b[39m.print_method)\n",
      "\u001b[36mFile \u001b[39m\u001b[32m~/.ipython/profile_default/startup/00-databricks-init-4345b90cdbba7425a7042b5998d089f5.py:473\u001b[39m, in \u001b[36mregister_formatters.<locals>.df_html\u001b[39m\u001b[34m(df)\u001b[39m\n\u001b[32m    472\u001b[39m \u001b[38;5;28;01mdef\u001b[39;00m\u001b[38;5;250m \u001b[39m\u001b[34mdf_html\u001b[39m(df):\n\u001b[32m--> \u001b[39m\u001b[32m473\u001b[39m     \u001b[38;5;28;01mreturn\u001b[39;00m \u001b[43mdf\u001b[49m\u001b[43m.\u001b[49m\u001b[43mlimit\u001b[49m\u001b[43m(\u001b[49m\u001b[43mnotebook_config\u001b[49m\u001b[43m.\u001b[49m\u001b[43mdataframe_display_limit\u001b[49m\u001b[43m)\u001b[49m\u001b[43m.\u001b[49m\u001b[43mtoPandas\u001b[49m\u001b[43m(\u001b[49m\u001b[43m)\u001b[49m.to_html()\n",
      "\u001b[36mFile \u001b[39m\u001b[32m~/anaconda3/envs/azure_databricks/lib/python3.12/site-packages/pyspark/sql/connect/dataframe.py:2011\u001b[39m, in \u001b[36mDataFrame.toPandas\u001b[39m\u001b[34m(self)\u001b[39m\n\u001b[32m   2009\u001b[39m \u001b[38;5;28;01mdef\u001b[39;00m\u001b[38;5;250m \u001b[39m\u001b[34mtoPandas\u001b[39m(\u001b[38;5;28mself\u001b[39m) -> \u001b[33m\"\u001b[39m\u001b[33mpandas.DataFrame\u001b[39m\u001b[33m\"\u001b[39m:\n\u001b[32m   2010\u001b[39m     query = \u001b[38;5;28mself\u001b[39m._plan.to_proto(\u001b[38;5;28mself\u001b[39m._session.client)\n\u001b[32m-> \u001b[39m\u001b[32m2011\u001b[39m     pdf, ei = \u001b[38;5;28;43mself\u001b[39;49m\u001b[43m.\u001b[49m\u001b[43m_session\u001b[49m\u001b[43m.\u001b[49m\u001b[43mclient\u001b[49m\u001b[43m.\u001b[49m\u001b[43mto_pandas\u001b[49m\u001b[43m(\u001b[49m\u001b[43mquery\u001b[49m\u001b[43m,\u001b[49m\u001b[43m \u001b[49m\u001b[38;5;28;43mself\u001b[39;49m\u001b[43m.\u001b[49m\u001b[43m_plan\u001b[49m\u001b[43m.\u001b[49m\u001b[43mobservations\u001b[49m\u001b[43m)\u001b[49m\n\u001b[32m   2012\u001b[39m     \u001b[38;5;28mself\u001b[39m._execution_info = ei\n\u001b[32m   2013\u001b[39m     \u001b[38;5;28;01mreturn\u001b[39;00m pdf\n",
      "\u001b[36mFile \u001b[39m\u001b[32m~/anaconda3/envs/azure_databricks/lib/python3.12/site-packages/pyspark/sql/connect/client/core.py:1270\u001b[39m, in \u001b[36mSparkConnectClient.to_pandas\u001b[39m\u001b[34m(self, plan, observations)\u001b[39m\n\u001b[32m   1268\u001b[39m req = \u001b[38;5;28mself\u001b[39m._execute_plan_request_with_metadata()\n\u001b[32m   1269\u001b[39m req.plan.CopyFrom(plan)\n\u001b[32m-> \u001b[39m\u001b[32m1270\u001b[39m (self_destruct_conf,) = \u001b[38;5;28;43mself\u001b[39;49m\u001b[43m.\u001b[49m\u001b[43mget_config_with_defaults\u001b[49m\u001b[43m(\u001b[49m\n\u001b[32m   1271\u001b[39m \u001b[43m    \u001b[49m\u001b[43m(\u001b[49m\u001b[33;43m\"\u001b[39;49m\u001b[33;43mspark.sql.execution.arrow.pyspark.selfDestruct.enabled\u001b[39;49m\u001b[33;43m\"\u001b[39;49m\u001b[43m,\u001b[49m\u001b[43m \u001b[49m\u001b[33;43m\"\u001b[39;49m\u001b[33;43mfalse\u001b[39;49m\u001b[33;43m\"\u001b[39;49m\u001b[43m)\u001b[49m\u001b[43m,\u001b[49m\n\u001b[32m   1272\u001b[39m \u001b[43m\u001b[49m\u001b[43m)\u001b[49m\n\u001b[32m   1273\u001b[39m self_destruct = cast(\u001b[38;5;28mstr\u001b[39m, self_destruct_conf).lower() == \u001b[33m\"\u001b[39m\u001b[33mtrue\u001b[39m\u001b[33m\"\u001b[39m\n\u001b[32m   1274\u001b[39m table, schema, metrics, observed_metrics, _ = \u001b[38;5;28mself\u001b[39m._execute_and_fetch(\n\u001b[32m   1275\u001b[39m     req, observations, self_destruct=self_destruct\n\u001b[32m   1276\u001b[39m )\n",
      "\u001b[36mFile \u001b[39m\u001b[32m~/anaconda3/envs/azure_databricks/lib/python3.12/site-packages/pyspark/sql/connect/client/core.py:2049\u001b[39m, in \u001b[36mSparkConnectClient.get_config_with_defaults\u001b[39m\u001b[34m(self, *pairs)\u001b[39m\n\u001b[32m   2041\u001b[39m \u001b[38;5;28;01mdef\u001b[39;00m\u001b[38;5;250m \u001b[39m\u001b[34mget_config_with_defaults\u001b[39m(\n\u001b[32m   2042\u001b[39m     \u001b[38;5;28mself\u001b[39m, *pairs: Tuple[\u001b[38;5;28mstr\u001b[39m, Optional[\u001b[38;5;28mstr\u001b[39m]]\n\u001b[32m   2043\u001b[39m ) -> Tuple[Optional[\u001b[38;5;28mstr\u001b[39m], ...]:\n\u001b[32m   2044\u001b[39m     op = pb2.ConfigRequest.Operation(\n\u001b[32m   2045\u001b[39m         get_with_default=pb2.ConfigRequest.GetWithDefault(\n\u001b[32m   2046\u001b[39m             pairs=[pb2.KeyValue(key=key, value=default) \u001b[38;5;28;01mfor\u001b[39;00m key, default \u001b[38;5;129;01min\u001b[39;00m pairs]\n\u001b[32m   2047\u001b[39m         )\n\u001b[32m   2048\u001b[39m     )\n\u001b[32m-> \u001b[39m\u001b[32m2049\u001b[39m     configs = \u001b[38;5;28mdict\u001b[39m(\u001b[38;5;28;43mself\u001b[39;49m\u001b[43m.\u001b[49m\u001b[43mconfig\u001b[49m\u001b[43m(\u001b[49m\u001b[43mop\u001b[49m\u001b[43m)\u001b[49m.pairs)\n\u001b[32m   2050\u001b[39m     \u001b[38;5;28;01mreturn\u001b[39;00m \u001b[38;5;28mtuple\u001b[39m(configs.get(key) \u001b[38;5;28;01mfor\u001b[39;00m key, _ \u001b[38;5;129;01min\u001b[39;00m pairs)\n",
      "\u001b[36mFile \u001b[39m\u001b[32m~/anaconda3/envs/azure_databricks/lib/python3.12/site-packages/pyspark/sql/connect/client/core.py:2072\u001b[39m, in \u001b[36mSparkConnectClient.config\u001b[39m\u001b[34m(self, operation)\u001b[39m\n\u001b[32m   2070\u001b[39m \u001b[38;5;28;01mfor\u001b[39;00m attempt \u001b[38;5;129;01min\u001b[39;00m \u001b[38;5;28mself\u001b[39m._retrying():\n\u001b[32m   2071\u001b[39m     \u001b[38;5;28;01mwith\u001b[39;00m attempt:\n\u001b[32m-> \u001b[39m\u001b[32m2072\u001b[39m         resp = \u001b[38;5;28;43mself\u001b[39;49m\u001b[43m.\u001b[49m\u001b[43m_stub\u001b[49m\u001b[43m.\u001b[49m\u001b[43mConfig\u001b[49m\u001b[43m(\u001b[49m\u001b[43mreq\u001b[49m\u001b[43m,\u001b[49m\u001b[43m \u001b[49m\u001b[43mmetadata\u001b[49m\u001b[43m=\u001b[49m\u001b[38;5;28;43mself\u001b[39;49m\u001b[43m.\u001b[49m\u001b[43mmetadata\u001b[49m\u001b[43m(\u001b[49m\u001b[43m)\u001b[49m\u001b[43m)\u001b[49m\n\u001b[32m   2073\u001b[39m         \u001b[38;5;28mself\u001b[39m._verify_response_integrity(resp)\n\u001b[32m   2074\u001b[39m         \u001b[38;5;28;01mreturn\u001b[39;00m ConfigResult.fromProto(resp)\n",
      "\u001b[36mFile \u001b[39m\u001b[32m~/anaconda3/envs/azure_databricks/lib/python3.12/site-packages/grpc/_interceptor.py:277\u001b[39m, in \u001b[36m_UnaryUnaryMultiCallable.__call__\u001b[39m\u001b[34m(self, request, timeout, metadata, credentials, wait_for_ready, compression)\u001b[39m\n\u001b[32m    268\u001b[39m \u001b[38;5;28;01mdef\u001b[39;00m\u001b[38;5;250m \u001b[39m\u001b[34m__call__\u001b[39m(\n\u001b[32m    269\u001b[39m     \u001b[38;5;28mself\u001b[39m,\n\u001b[32m    270\u001b[39m     request: Any,\n\u001b[32m   (...)\u001b[39m\u001b[32m    275\u001b[39m     compression: Optional[grpc.Compression] = \u001b[38;5;28;01mNone\u001b[39;00m,\n\u001b[32m    276\u001b[39m ) -> Any:\n\u001b[32m--> \u001b[39m\u001b[32m277\u001b[39m     response, ignored_call = \u001b[38;5;28;43mself\u001b[39;49m\u001b[43m.\u001b[49m\u001b[43m_with_call\u001b[49m\u001b[43m(\u001b[49m\n\u001b[32m    278\u001b[39m \u001b[43m        \u001b[49m\u001b[43mrequest\u001b[49m\u001b[43m,\u001b[49m\n\u001b[32m    279\u001b[39m \u001b[43m        \u001b[49m\u001b[43mtimeout\u001b[49m\u001b[43m=\u001b[49m\u001b[43mtimeout\u001b[49m\u001b[43m,\u001b[49m\n\u001b[32m    280\u001b[39m \u001b[43m        \u001b[49m\u001b[43mmetadata\u001b[49m\u001b[43m=\u001b[49m\u001b[43mmetadata\u001b[49m\u001b[43m,\u001b[49m\n\u001b[32m    281\u001b[39m \u001b[43m        \u001b[49m\u001b[43mcredentials\u001b[49m\u001b[43m=\u001b[49m\u001b[43mcredentials\u001b[49m\u001b[43m,\u001b[49m\n\u001b[32m    282\u001b[39m \u001b[43m        \u001b[49m\u001b[43mwait_for_ready\u001b[49m\u001b[43m=\u001b[49m\u001b[43mwait_for_ready\u001b[49m\u001b[43m,\u001b[49m\n\u001b[32m    283\u001b[39m \u001b[43m        \u001b[49m\u001b[43mcompression\u001b[49m\u001b[43m=\u001b[49m\u001b[43mcompression\u001b[49m\u001b[43m,\u001b[49m\n\u001b[32m    284\u001b[39m \u001b[43m    \u001b[49m\u001b[43m)\u001b[49m\n\u001b[32m    285\u001b[39m     \u001b[38;5;28;01mreturn\u001b[39;00m response\n",
      "\u001b[36mFile \u001b[39m\u001b[32m~/anaconda3/envs/azure_databricks/lib/python3.12/site-packages/grpc/_interceptor.py:329\u001b[39m, in \u001b[36m_UnaryUnaryMultiCallable._with_call\u001b[39m\u001b[34m(self, request, timeout, metadata, credentials, wait_for_ready, compression)\u001b[39m\n\u001b[32m    326\u001b[39m     \u001b[38;5;28;01mexcept\u001b[39;00m \u001b[38;5;167;01mException\u001b[39;00m \u001b[38;5;28;01mas\u001b[39;00m exception:  \u001b[38;5;66;03m# pylint:disable=broad-except\u001b[39;00m\n\u001b[32m    327\u001b[39m         \u001b[38;5;28;01mreturn\u001b[39;00m _FailureOutcome(exception, sys.exc_info()[\u001b[32m2\u001b[39m])\n\u001b[32m--> \u001b[39m\u001b[32m329\u001b[39m call = \u001b[38;5;28;43mself\u001b[39;49m\u001b[43m.\u001b[49m\u001b[43m_interceptor\u001b[49m\u001b[43m.\u001b[49m\u001b[43mintercept_unary_unary\u001b[49m\u001b[43m(\u001b[49m\n\u001b[32m    330\u001b[39m \u001b[43m    \u001b[49m\u001b[43mcontinuation\u001b[49m\u001b[43m,\u001b[49m\u001b[43m \u001b[49m\u001b[43mclient_call_details\u001b[49m\u001b[43m,\u001b[49m\u001b[43m \u001b[49m\u001b[43mrequest\u001b[49m\n\u001b[32m    331\u001b[39m \u001b[43m\u001b[49m\u001b[43m)\u001b[49m\n\u001b[32m    332\u001b[39m \u001b[38;5;28;01mreturn\u001b[39;00m call.result(), call\n",
      "\u001b[36mFile \u001b[39m\u001b[32m~/anaconda3/envs/azure_databricks/lib/python3.12/site-packages/pyspark/sql/connect/client/core.py:698\u001b[39m, in \u001b[36mMetadataInterceptor.intercept_unary_unary\u001b[39m\u001b[34m(self, continuation, client_call_details, request)\u001b[39m\n\u001b[32m    695\u001b[39m new_client_call_details = \u001b[38;5;28mself\u001b[39m._augment_metadata(client_call_details)\n\u001b[32m    697\u001b[39m \u001b[38;5;66;03m# Make the call and capture the response\u001b[39;00m\n\u001b[32m--> \u001b[39m\u001b[32m698\u001b[39m response = \u001b[43mcontinuation\u001b[49m\u001b[43m(\u001b[49m\u001b[43mnew_client_call_details\u001b[49m\u001b[43m,\u001b[49m\u001b[43m \u001b[49m\u001b[43mrequest\u001b[49m\u001b[43m)\u001b[49m\n\u001b[32m    700\u001b[39m \u001b[38;5;66;03m# Accessing response metadata (trailers)\u001b[39;00m\n\u001b[32m    701\u001b[39m \u001b[38;5;28;01mif\u001b[39;00m \u001b[38;5;28mhasattr\u001b[39m(response, \u001b[33m'\u001b[39m\u001b[33mtrailing_metadata\u001b[39m\u001b[33m'\u001b[39m):\n",
      "\u001b[36mFile \u001b[39m\u001b[32m~/anaconda3/envs/azure_databricks/lib/python3.12/site-packages/grpc/_interceptor.py:315\u001b[39m, in \u001b[36m_UnaryUnaryMultiCallable._with_call.<locals>.continuation\u001b[39m\u001b[34m(new_details, request)\u001b[39m\n\u001b[32m    306\u001b[39m (\n\u001b[32m    307\u001b[39m     new_method,\n\u001b[32m    308\u001b[39m     new_timeout,\n\u001b[32m   (...)\u001b[39m\u001b[32m    312\u001b[39m     new_compression,\n\u001b[32m    313\u001b[39m ) = _unwrap_client_call_details(new_details, client_call_details)\n\u001b[32m    314\u001b[39m \u001b[38;5;28;01mtry\u001b[39;00m:\n\u001b[32m--> \u001b[39m\u001b[32m315\u001b[39m     response, call = \u001b[38;5;28;43mself\u001b[39;49m\u001b[43m.\u001b[49m\u001b[43m_thunk\u001b[49m\u001b[43m(\u001b[49m\u001b[43mnew_method\u001b[49m\u001b[43m)\u001b[49m\u001b[43m.\u001b[49m\u001b[43mwith_call\u001b[49m\u001b[43m(\u001b[49m\n\u001b[32m    316\u001b[39m \u001b[43m        \u001b[49m\u001b[43mrequest\u001b[49m\u001b[43m,\u001b[49m\n\u001b[32m    317\u001b[39m \u001b[43m        \u001b[49m\u001b[43mtimeout\u001b[49m\u001b[43m=\u001b[49m\u001b[43mnew_timeout\u001b[49m\u001b[43m,\u001b[49m\n\u001b[32m    318\u001b[39m \u001b[43m        \u001b[49m\u001b[43mmetadata\u001b[49m\u001b[43m=\u001b[49m\u001b[43mnew_metadata\u001b[49m\u001b[43m,\u001b[49m\n\u001b[32m    319\u001b[39m \u001b[43m        \u001b[49m\u001b[43mcredentials\u001b[49m\u001b[43m=\u001b[49m\u001b[43mnew_credentials\u001b[49m\u001b[43m,\u001b[49m\n\u001b[32m    320\u001b[39m \u001b[43m        \u001b[49m\u001b[43mwait_for_ready\u001b[49m\u001b[43m=\u001b[49m\u001b[43mnew_wait_for_ready\u001b[49m\u001b[43m,\u001b[49m\n\u001b[32m    321\u001b[39m \u001b[43m        \u001b[49m\u001b[43mcompression\u001b[49m\u001b[43m=\u001b[49m\u001b[43mnew_compression\u001b[49m\u001b[43m,\u001b[49m\n\u001b[32m    322\u001b[39m \u001b[43m    \u001b[49m\u001b[43m)\u001b[49m\n\u001b[32m    323\u001b[39m     \u001b[38;5;28;01mreturn\u001b[39;00m _UnaryOutcome(response, call)\n\u001b[32m    324\u001b[39m \u001b[38;5;28;01mexcept\u001b[39;00m grpc.RpcError \u001b[38;5;28;01mas\u001b[39;00m rpc_error:\n",
      "\u001b[36mFile \u001b[39m\u001b[32m~/anaconda3/envs/azure_databricks/lib/python3.12/site-packages/grpc/_channel.py:1195\u001b[39m, in \u001b[36m_UnaryUnaryMultiCallable.with_call\u001b[39m\u001b[34m(self, request, timeout, metadata, credentials, wait_for_ready, compression)\u001b[39m\n\u001b[32m   1183\u001b[39m \u001b[38;5;28;01mdef\u001b[39;00m\u001b[38;5;250m \u001b[39m\u001b[34mwith_call\u001b[39m(\n\u001b[32m   1184\u001b[39m     \u001b[38;5;28mself\u001b[39m,\n\u001b[32m   1185\u001b[39m     request: Any,\n\u001b[32m   (...)\u001b[39m\u001b[32m   1190\u001b[39m     compression: Optional[grpc.Compression] = \u001b[38;5;28;01mNone\u001b[39;00m,\n\u001b[32m   1191\u001b[39m ) -> Tuple[Any, grpc.Call]:\n\u001b[32m   1192\u001b[39m     (\n\u001b[32m   1193\u001b[39m         state,\n\u001b[32m   1194\u001b[39m         call,\n\u001b[32m-> \u001b[39m\u001b[32m1195\u001b[39m     ) = \u001b[38;5;28;43mself\u001b[39;49m\u001b[43m.\u001b[49m\u001b[43m_blocking\u001b[49m\u001b[43m(\u001b[49m\n\u001b[32m   1196\u001b[39m \u001b[43m        \u001b[49m\u001b[43mrequest\u001b[49m\u001b[43m,\u001b[49m\u001b[43m \u001b[49m\u001b[43mtimeout\u001b[49m\u001b[43m,\u001b[49m\u001b[43m \u001b[49m\u001b[43mmetadata\u001b[49m\u001b[43m,\u001b[49m\u001b[43m \u001b[49m\u001b[43mcredentials\u001b[49m\u001b[43m,\u001b[49m\u001b[43m \u001b[49m\u001b[43mwait_for_ready\u001b[49m\u001b[43m,\u001b[49m\u001b[43m \u001b[49m\u001b[43mcompression\u001b[49m\n\u001b[32m   1197\u001b[39m \u001b[43m    \u001b[49m\u001b[43m)\u001b[49m\n\u001b[32m   1198\u001b[39m     \u001b[38;5;28;01mreturn\u001b[39;00m _end_unary_response_blocking(state, call, \u001b[38;5;28;01mTrue\u001b[39;00m, \u001b[38;5;28;01mNone\u001b[39;00m)\n",
      "\u001b[36mFile \u001b[39m\u001b[32m~/anaconda3/envs/azure_databricks/lib/python3.12/site-packages/grpc/_channel.py:1162\u001b[39m, in \u001b[36m_UnaryUnaryMultiCallable._blocking\u001b[39m\u001b[34m(self, request, timeout, metadata, credentials, wait_for_ready, compression)\u001b[39m\n\u001b[32m   1145\u001b[39m state.target = _common.decode(\u001b[38;5;28mself\u001b[39m._target)\n\u001b[32m   1146\u001b[39m call = \u001b[38;5;28mself\u001b[39m._channel.segregated_call(\n\u001b[32m   1147\u001b[39m     cygrpc.PropagationConstants.GRPC_PROPAGATE_DEFAULTS,\n\u001b[32m   1148\u001b[39m     \u001b[38;5;28mself\u001b[39m._method,\n\u001b[32m   (...)\u001b[39m\u001b[32m   1160\u001b[39m     \u001b[38;5;28mself\u001b[39m._registered_call_handle,\n\u001b[32m   1161\u001b[39m )\n\u001b[32m-> \u001b[39m\u001b[32m1162\u001b[39m event = \u001b[43mcall\u001b[49m\u001b[43m.\u001b[49m\u001b[43mnext_event\u001b[49m\u001b[43m(\u001b[49m\u001b[43m)\u001b[49m\n\u001b[32m   1163\u001b[39m _handle_event(event, state, \u001b[38;5;28mself\u001b[39m._response_deserializer)\n\u001b[32m   1164\u001b[39m \u001b[38;5;28;01mreturn\u001b[39;00m state, call\n",
      "\u001b[36mFile \u001b[39m\u001b[32msrc/python/grpcio/grpc/_cython/_cygrpc/channel.pyx.pxi:388\u001b[39m, in \u001b[36mgrpc._cython.cygrpc.SegregatedCall.next_event\u001b[39m\u001b[34m()\u001b[39m\n",
      "\u001b[36mFile \u001b[39m\u001b[32msrc/python/grpcio/grpc/_cython/_cygrpc/channel.pyx.pxi:211\u001b[39m, in \u001b[36mgrpc._cython.cygrpc._next_call_event\u001b[39m\u001b[34m()\u001b[39m\n",
      "\u001b[36mFile \u001b[39m\u001b[32msrc/python/grpcio/grpc/_cython/_cygrpc/channel.pyx.pxi:205\u001b[39m, in \u001b[36mgrpc._cython.cygrpc._next_call_event\u001b[39m\u001b[34m()\u001b[39m\n",
      "\u001b[36mFile \u001b[39m\u001b[32msrc/python/grpcio/grpc/_cython/_cygrpc/completion_queue.pyx.pxi:78\u001b[39m, in \u001b[36mgrpc._cython.cygrpc._latent_event\u001b[39m\u001b[34m()\u001b[39m\n",
      "\u001b[36mFile \u001b[39m\u001b[32msrc/python/grpcio/grpc/_cython/_cygrpc/completion_queue.pyx.pxi:62\u001b[39m, in \u001b[36mgrpc._cython.cygrpc._internal_latent_event\u001b[39m\u001b[34m()\u001b[39m\n",
      "\u001b[36mFile \u001b[39m\u001b[32msrc/python/grpcio/grpc/_cython/_cygrpc/completion_queue.pyx.pxi:58\u001b[39m, in \u001b[36mgrpc._cython.cygrpc._interpret_event\u001b[39m\u001b[34m()\u001b[39m\n",
      "\u001b[36mFile \u001b[39m\u001b[32msrc/python/grpcio/grpc/_cython/_cygrpc/tag.pyx.pxi:71\u001b[39m, in \u001b[36mgrpc._cython.cygrpc._BatchOperationTag.event\u001b[39m\u001b[34m()\u001b[39m\n",
      "\u001b[36mFile \u001b[39m\u001b[32msrc/python/grpcio/grpc/_cython/_cygrpc/operation.pyx.pxi:138\u001b[39m, in \u001b[36mgrpc._cython.cygrpc.ReceiveInitialMetadataOperation.un_c\u001b[39m\u001b[34m()\u001b[39m\n",
      "\u001b[36mFile \u001b[39m\u001b[32msrc/python/grpcio/grpc/_cython/_cygrpc/metadata.pyx.pxi:69\u001b[39m, in \u001b[36mgrpc._cython.cygrpc._metadata\u001b[39m\u001b[34m()\u001b[39m\n",
      "\u001b[36mFile \u001b[39m\u001b[32msrc/python/grpcio/grpc/_cython/_cygrpc/metadata.pyx.pxi:70\u001b[39m, in \u001b[36mgenexpr\u001b[39m\u001b[34m()\u001b[39m\n",
      "\u001b[36mFile \u001b[39m\u001b[32msrc/python/grpcio/grpc/_cython/_cygrpc/metadata.pyx.pxi:64\u001b[39m, in \u001b[36mgrpc._cython.cygrpc._metadatum\u001b[39m\u001b[34m()\u001b[39m\n",
      "\u001b[36mFile \u001b[39m\u001b[32m<string>:1\u001b[39m, in \u001b[36m<lambda>\u001b[39m\u001b[34m(_cls, key, value)\u001b[39m\n",
      "\u001b[31mKeyboardInterrupt\u001b[39m: "
     ]
    }
   ],
   "source": [
    "%sql\n",
    "-- Create Procedures Bronze Table\n",
    "CREATE TABLE IF NOT EXISTS payer_bronze.procedures_raw;\n",
    "COPY INTO payer_bronze.procedures_raw FROM '/Volumes/my_catalog/payer_bronze/payer/files/procedures/procedures.csv'\n",
    "FILEFORMAT = CSV\n",
    "FORMAT_OPTIONS('header' = 'true', 'inferSchema' = 'true', 'delimiter' = ',')\n",
    "COPY_OPTIONS ('mergeSchema' = 'true');\n"
   ]
  },
  {
   "cell_type": "markdown",
   "id": "ef7a2288",
   "metadata": {},
   "source": [
    "## Step 3: Silver Layer - Cleaned and Conformed Data\n",
    "**Transform bronze data into clean, analytics-ready tables**\n"
   ]
  },
  {
   "cell_type": "code",
   "execution_count": null,
   "id": "f4379ab0",
   "metadata": {},
   "outputs": [
    {
     "data": {
      "application/vnd.jupyter.widget-view+json": {
       "model_id": "4288e81b53c148bb9887db82a271e006",
       "version_major": 2,
       "version_minor": 0
      },
      "text/plain": [
       "HBox(children=(IntProgress(value=0, bar_style='success'), Label(value='')))"
      ]
     },
     "metadata": {},
     "output_type": "display_data"
    },
    {
     "data": {
      "text/html": [
       "<table border=\"1\" class=\"dataframe\">\n",
       "  <thead>\n",
       "    <tr style=\"text-align: right;\">\n",
       "      <th></th>\n",
       "      <th>num_affected_rows</th>\n",
       "      <th>num_inserted_rows</th>\n",
       "    </tr>\n",
       "  </thead>\n",
       "  <tbody>\n",
       "  </tbody>\n",
       "</table>"
      ],
      "text/plain": [
       "DataFrame[num_affected_rows: bigint, num_inserted_rows: bigint]"
      ]
     },
     "execution_count": 10,
     "metadata": {},
     "output_type": "execute_result"
    }
   ],
   "source": [
    "%sql\n",
    "-- Clean and transform members data\n",
    "CREATE OR REPLACE TABLE payer_silver.members AS\n",
    "SELECT\n",
    "  DISTINCT CAST(member_id AS STRING) AS member_id,\n",
    "  TRIM(first_name) AS first_name,\n",
    "  TRIM(last_name) AS last_name,\n",
    "  CAST(birth_date AS DATE) AS birth_date,\n",
    "  gender,\n",
    "  plan_id,\n",
    "  CAST(effective_date AS DATE) AS effective_date\n",
    "FROM payer_bronze.members_raw\n",
    "WHERE member_id IS NOT NULL\n"
   ]
  },
  {
   "cell_type": "code",
   "execution_count": 16,
   "id": "9e1275d3",
   "metadata": {},
   "outputs": [
    {
     "data": {
      "application/vnd.jupyter.widget-view+json": {
       "model_id": "fa56ee72f32941feb38e95f4cb354c90",
       "version_major": 2,
       "version_minor": 0
      },
      "text/plain": [
       "HBox(children=(IntProgress(value=0, bar_style='success'), Label(value='')))"
      ]
     },
     "metadata": {},
     "output_type": "display_data"
    },
    {
     "data": {
      "text/html": [
       "<table border=\"1\" class=\"dataframe\">\n",
       "  <thead>\n",
       "    <tr style=\"text-align: right;\">\n",
       "      <th></th>\n",
       "      <th>num_affected_rows</th>\n",
       "      <th>num_inserted_rows</th>\n",
       "    </tr>\n",
       "  </thead>\n",
       "  <tbody>\n",
       "  </tbody>\n",
       "</table>"
      ],
      "text/plain": [
       "DataFrame[num_affected_rows: bigint, num_inserted_rows: bigint]"
      ]
     },
     "execution_count": 16,
     "metadata": {},
     "output_type": "execute_result"
    }
   ],
   "source": [
    "%sql\n",
    "-- Clean and transform claims data\n",
    "CREATE OR REPLACE TABLE payer_silver.claims AS\n",
    "SELECT\n",
    "  DISTINCT claim_id,\n",
    "  member_id,\n",
    "  provider_id,\n",
    "  CAST(claim_date AS DATE) AS claim_date,\n",
    "  ROUND(total_charge, 2) AS total_charge,\n",
    "  LOWER(claim_status) AS claim_status\n",
    "FROM payer_bronze.claims_raw\n",
    "WHERE claim_id IS NOT NULL AND total_charge > 0\n"
   ]
  },
  {
   "cell_type": "code",
   "execution_count": 17,
   "id": "32800517",
   "metadata": {},
   "outputs": [
    {
     "data": {
      "application/vnd.jupyter.widget-view+json": {
       "model_id": "58098c6d9eb743ca90be78589ee9b1ca",
       "version_major": 2,
       "version_minor": 0
      },
      "text/plain": [
       "HBox(children=(IntProgress(value=0, bar_style='success'), Label(value='')))"
      ]
     },
     "metadata": {},
     "output_type": "display_data"
    },
    {
     "data": {
      "text/html": [
       "<table border=\"1\" class=\"dataframe\">\n",
       "  <thead>\n",
       "    <tr style=\"text-align: right;\">\n",
       "      <th></th>\n",
       "      <th>num_affected_rows</th>\n",
       "      <th>num_inserted_rows</th>\n",
       "    </tr>\n",
       "  </thead>\n",
       "  <tbody>\n",
       "  </tbody>\n",
       "</table>"
      ],
      "text/plain": [
       "DataFrame[num_affected_rows: bigint, num_inserted_rows: bigint]"
      ]
     },
     "execution_count": 17,
     "metadata": {},
     "output_type": "execute_result"
    }
   ],
   "source": [
    "%sql\n",
    "-- Clean and transform providers data\n",
    "CREATE OR REPLACE TABLE payer_silver.providers AS\n",
    "SELECT\n",
    "  DISTINCT provider_id,\n",
    "  npi,\n",
    "  provider_name,\n",
    "  specialty,\n",
    "  address,\n",
    "  city,\n",
    "  state\n",
    "FROM payer_bronze.providers_raw\n",
    "WHERE provider_id IS NOT NULL\n"
   ]
  },
  {
   "cell_type": "markdown",
   "id": "4fa4471a",
   "metadata": {},
   "source": [
    "## Step 4: Gold Layer - Business-Ready Analytics Tables\n",
    "**Create enriched, aggregated tables for analytics and reporting**\n"
   ]
  },
  {
   "cell_type": "code",
   "execution_count": 18,
   "id": "a5cbf1aa",
   "metadata": {},
   "outputs": [
    {
     "data": {
      "application/vnd.jupyter.widget-view+json": {
       "model_id": "9ea4007d4b2844caa0fcbad396daec24",
       "version_major": 2,
       "version_minor": 0
      },
      "text/plain": [
       "HBox(children=(IntProgress(value=0, bar_style='success'), Label(value='')))"
      ]
     },
     "metadata": {},
     "output_type": "display_data"
    },
    {
     "data": {
      "text/html": [
       "<table border=\"1\" class=\"dataframe\">\n",
       "  <thead>\n",
       "    <tr style=\"text-align: right;\">\n",
       "      <th></th>\n",
       "      <th>num_affected_rows</th>\n",
       "      <th>num_inserted_rows</th>\n",
       "    </tr>\n",
       "  </thead>\n",
       "  <tbody>\n",
       "  </tbody>\n",
       "</table>"
      ],
      "text/plain": [
       "DataFrame[num_affected_rows: bigint, num_inserted_rows: bigint]"
      ]
     },
     "execution_count": 18,
     "metadata": {},
     "output_type": "execute_result"
    }
   ],
   "source": [
    "%sql\n",
    "-- Create enriched claims table with member and provider details\n",
    "CREATE OR REPLACE TABLE payer_gold.claims_enriched AS\n",
    "SELECT\n",
    "  c.claim_id,\n",
    "  c.claim_date,\n",
    "  c.total_charge,\n",
    "  c.claim_status,\n",
    "  m.member_id,\n",
    "  m.first_name,\n",
    "  m.last_name,\n",
    "  m.gender,\n",
    "  m.plan_id,\n",
    "  p.provider_id,\n",
    "  p.provider_name,\n",
    "  p.specialty,\n",
    "  p.city,\n",
    "  p.state\n",
    "FROM payer_silver.claims c\n",
    "INNER JOIN payer_silver.members m ON c.member_id = m.member_id\n",
    "INNER JOIN payer_silver.providers p ON c.provider_id = p.provider_id\n"
   ]
  },
  {
   "cell_type": "code",
   "execution_count": 19,
   "id": "738a2c23",
   "metadata": {},
   "outputs": [
    {
     "data": {
      "application/vnd.jupyter.widget-view+json": {
       "model_id": "b551bb691be5479d898d4d23ffd4deb7",
       "version_major": 2,
       "version_minor": 0
      },
      "text/plain": [
       "HBox(children=(IntProgress(value=0, bar_style='success'), Label(value='')))"
      ]
     },
     "metadata": {},
     "output_type": "display_data"
    },
    {
     "data": {
      "text/html": [
       "<table border=\"1\" class=\"dataframe\">\n",
       "  <thead>\n",
       "    <tr style=\"text-align: right;\">\n",
       "      <th></th>\n",
       "      <th>num_affected_rows</th>\n",
       "      <th>num_inserted_rows</th>\n",
       "    </tr>\n",
       "  </thead>\n",
       "  <tbody>\n",
       "  </tbody>\n",
       "</table>"
      ],
      "text/plain": [
       "DataFrame[num_affected_rows: bigint, num_inserted_rows: bigint]"
      ]
     },
     "execution_count": 19,
     "metadata": {},
     "output_type": "execute_result"
    }
   ],
   "source": [
    "%sql\n",
    "-- Create member summary table for analytics\n",
    "CREATE OR REPLACE TABLE payer_gold.member_claim_summary AS\n",
    "SELECT\n",
    "  member_id,\n",
    "  COUNT(DISTINCT claim_id) AS total_claims,\n",
    "  SUM(total_charge) AS sum_claims,\n",
    "  AVG(total_charge) AS avg_claim_amount,\n",
    "  MAX(total_charge) AS max_claim,\n",
    "  MIN(total_charge) AS min_claim\n",
    "FROM payer_silver.claims\n",
    "GROUP BY member_id\n"
   ]
  },
  {
   "cell_type": "markdown",
   "id": "75eb598c",
   "metadata": {},
   "source": [
    "## Step 5: Verify Pipeline Results\n",
    "**Quick validation of the medallion pipeline**\n"
   ]
  },
  {
   "cell_type": "code",
   "execution_count": 20,
   "id": "b5fc2867",
   "metadata": {},
   "outputs": [
    {
     "data": {
      "application/vnd.jupyter.widget-view+json": {
       "model_id": "4d9f17ce858244489b4a39b28a354835",
       "version_major": 2,
       "version_minor": 0
      },
      "text/plain": [
       "HBox(children=(IntProgress(value=0, bar_style='success'), Label(value='')))"
      ]
     },
     "metadata": {},
     "output_type": "display_data"
    },
    {
     "data": {
      "application/vnd.jupyter.widget-view+json": {
       "model_id": "98d95da3c9654365be1c7f97c3227a77",
       "version_major": 2,
       "version_minor": 0
      },
      "text/plain": [
       "HBox(children=(IntProgress(value=0, bar_style='success'), Label(value='')))"
      ]
     },
     "metadata": {},
     "output_type": "display_data"
    },
    {
     "data": {
      "application/vnd.jupyter.widget-view+json": {
       "model_id": "adb47551dd164b4dbea80ba603461912",
       "version_major": 2,
       "version_minor": 0
      },
      "text/plain": [
       "HBox(children=(IntProgress(value=0, bar_style='success'), Label(value='')))"
      ]
     },
     "metadata": {},
     "output_type": "display_data"
    },
    {
     "name": "stdout",
     "output_type": "stream",
     "text": [
      "📊 MEDALLION PIPELINE SUMMARY\n",
      "========================================\n",
      "🥉 Bronze Claims: 8 records\n",
      "🥈 Silver Claims: 8 records\n",
      "🥇 Gold Claims: 8 records\n",
      "\n",
      "🎉 Medallion pipeline completed successfully!\n"
     ]
    }
   ],
   "source": [
    "# Display pipeline summary\n",
    "bronze_count = spark.sql(f\"SELECT COUNT(*) as count FROM {bronze_db}.claims_raw\").collect()[0]['count']\n",
    "silver_count = spark.sql(f\"SELECT COUNT(*) as count FROM {silver_db}.claims\").collect()[0]['count']\n",
    "gold_count = spark.sql(f\"SELECT COUNT(*) as count FROM {gold_db}.claims_enriched\").collect()[0]['count']\n",
    "\n",
    "print(\"📊 MEDALLION PIPELINE SUMMARY\")\n",
    "print(\"=\" * 40)\n",
    "print(f\"🥉 Bronze Claims: {bronze_count:,} records\")\n",
    "print(f\"🥈 Silver Claims: {silver_count:,} records\")\n",
    "print(f\"🥇 Gold Claims: {gold_count:,} records\")\n",
    "print(\"\\n🎉 Medallion pipeline completed successfully!\")\n"
   ]
  },
  {
   "cell_type": "markdown",
   "id": "2d489957",
   "metadata": {},
   "source": [
    "## Step 6: Data Quality Assessment & Profiling\n",
    "**Comprehensive data quality checks familiar to SAS analysts**\n"
   ]
  },
  {
   "cell_type": "code",
   "execution_count": null,
   "id": "67bbaa4e",
   "metadata": {},
   "outputs": [
    {
     "name": "stdout",
     "output_type": "stream",
     "text": [
      "🔍 Checking if table exists...\n"
     ]
    },
    {
     "data": {
      "application/vnd.jupyter.widget-view+json": {
       "model_id": "d876c75af3dc4ae8b7cd5696c4ed8c22",
       "version_major": 2,
       "version_minor": 0
      },
      "text/plain": [
       "HBox(children=(IntProgress(value=0, bar_style='success'), Label(value='')))"
      ]
     },
     "metadata": {},
     "output_type": "display_data"
    },
    {
     "data": {
      "application/vnd.jupyter.widget-view+json": {
       "model_id": "1ad80c7024c7404ea5b36ec86930b893",
       "version_major": 2,
       "version_minor": 0
      },
      "text/plain": [
       "HBox(children=(IntProgress(value=0, bar_style='success'), Label(value='')))"
      ]
     },
     "metadata": {},
     "output_type": "display_data"
    },
    {
     "name": "stdout",
     "output_type": "stream",
     "text": [
      "📂 Current catalog: my_catalog\n",
      "📂 Current database: default\n",
      "📊 Attempting to access payer_gold.claims_enriched...\n",
      "✅ Table access successful!\n",
      "🔬 Running data quality analysis...\n",
      "\n",
      "📊 DATA QUALITY REPORT: claims_enriched\n",
      "============================================================\n",
      "🔄 Calculating row count...\n"
     ]
    },
    {
     "data": {
      "application/vnd.jupyter.widget-view+json": {
       "model_id": "b9a9587fa7714da2a93e0a77a89b8508",
       "version_major": 2,
       "version_minor": 0
      },
      "text/plain": [
       "HBox(children=(IntProgress(value=0, bar_style='success'), Label(value='')))"
      ]
     },
     "metadata": {},
     "output_type": "display_data"
    },
    {
     "name": "stdout",
     "output_type": "stream",
     "text": [
      "📈 Rows: 8 | Columns: 14\n",
      "\n",
      "📋 SCHEMA INFORMATION:\n",
      "root\n",
      " |-- claim_id: string (nullable = true)\n",
      " |-- claim_date: date (nullable = true)\n",
      " |-- total_charge: double (nullable = true)\n",
      " |-- claim_status: string (nullable = true)\n",
      " |-- member_id: string (nullable = true)\n",
      " |-- first_name: string (nullable = true)\n",
      " |-- last_name: string (nullable = true)\n",
      " |-- gender: string (nullable = true)\n",
      " |-- plan_id: string (nullable = true)\n",
      " |-- provider_id: integer (nullable = true)\n",
      " |-- provider_name: string (nullable = true)\n",
      " |-- specialty: string (nullable = true)\n",
      " |-- city: string (nullable = true)\n",
      " |-- state: string (nullable = true)\n",
      "\n",
      "\n",
      "🔍 MISSING VALUES ANALYSIS:\n",
      "🔄 Analyzing missing values for each column...\n",
      "   Processing column 1/14: claim_id\n"
     ]
    },
    {
     "data": {
      "application/vnd.jupyter.widget-view+json": {
       "model_id": "130659c0d49e4e7f8ff4be7f997489cd",
       "version_major": 2,
       "version_minor": 0
      },
      "text/plain": [
       "HBox(children=(IntProgress(value=0, bar_style='success'), Label(value='')))"
      ]
     },
     "metadata": {},
     "output_type": "display_data"
    },
    {
     "name": "stdout",
     "output_type": "stream",
     "text": [
      "   ⚠️  Error processing column claim_id: \n",
      "   Processing column 2/14: claim_date\n"
     ]
    },
    {
     "data": {
      "application/vnd.jupyter.widget-view+json": {
       "model_id": "3274e126f80242aa8745828e55975477",
       "version_major": 2,
       "version_minor": 0
      },
      "text/plain": [
       "HBox(children=(IntProgress(value=0, bar_style='success'), Label(value='')))"
      ]
     },
     "metadata": {},
     "output_type": "display_data"
    },
    {
     "name": "stdout",
     "output_type": "stream",
     "text": [
      "   ⚠️  Error processing column claim_date: \n",
      "   Processing column 3/14: total_charge\n"
     ]
    },
    {
     "data": {
      "application/vnd.jupyter.widget-view+json": {
       "model_id": "43e525f25ae94db781261ce20d5386ff",
       "version_major": 2,
       "version_minor": 0
      },
      "text/plain": [
       "HBox(children=(IntProgress(value=0, bar_style='success'), Label(value='')))"
      ]
     },
     "metadata": {},
     "output_type": "display_data"
    },
    {
     "name": "stdout",
     "output_type": "stream",
     "text": [
      "   ⚠️  Error processing column total_charge: \n",
      "   Processing column 4/14: claim_status\n"
     ]
    },
    {
     "data": {
      "application/vnd.jupyter.widget-view+json": {
       "model_id": "1ff58fb6c2644b4ea50d5737d42a5d0f",
       "version_major": 2,
       "version_minor": 0
      },
      "text/plain": [
       "HBox(children=(IntProgress(value=0, bar_style='success'), Label(value='')))"
      ]
     },
     "metadata": {},
     "output_type": "display_data"
    },
    {
     "name": "stdout",
     "output_type": "stream",
     "text": [
      "   ⚠️  Error processing column claim_status: \n",
      "   Processing column 5/14: member_id\n"
     ]
    },
    {
     "data": {
      "application/vnd.jupyter.widget-view+json": {
       "model_id": "081326d80e9e4fdda33e64d9f1983a07",
       "version_major": 2,
       "version_minor": 0
      },
      "text/plain": [
       "HBox(children=(IntProgress(value=0, bar_style='success'), Label(value='')))"
      ]
     },
     "metadata": {},
     "output_type": "display_data"
    },
    {
     "name": "stdout",
     "output_type": "stream",
     "text": [
      "   ⚠️  Error processing column member_id: \n",
      "   Processing column 6/14: first_name\n"
     ]
    },
    {
     "data": {
      "application/vnd.jupyter.widget-view+json": {
       "model_id": "152104021bec445c8968b63e97dcf17e",
       "version_major": 2,
       "version_minor": 0
      },
      "text/plain": [
       "HBox(children=(IntProgress(value=0, bar_style='success'), Label(value='')))"
      ]
     },
     "metadata": {},
     "output_type": "display_data"
    },
    {
     "name": "stdout",
     "output_type": "stream",
     "text": [
      "   ⚠️  Error processing column first_name: \n",
      "   Processing column 7/14: last_name\n"
     ]
    },
    {
     "data": {
      "application/vnd.jupyter.widget-view+json": {
       "model_id": "560c0685be7f4484a425c147946be94f",
       "version_major": 2,
       "version_minor": 0
      },
      "text/plain": [
       "HBox(children=(IntProgress(value=0, bar_style='success'), Label(value='')))"
      ]
     },
     "metadata": {},
     "output_type": "display_data"
    },
    {
     "name": "stdout",
     "output_type": "stream",
     "text": [
      "   ⚠️  Error processing column last_name: \n",
      "   Processing column 8/14: gender\n"
     ]
    },
    {
     "data": {
      "application/vnd.jupyter.widget-view+json": {
       "model_id": "8c166ea6826c47bd800a38992bf22479",
       "version_major": 2,
       "version_minor": 0
      },
      "text/plain": [
       "HBox(children=(IntProgress(value=0, bar_style='success'), Label(value='')))"
      ]
     },
     "metadata": {},
     "output_type": "display_data"
    },
    {
     "name": "stdout",
     "output_type": "stream",
     "text": [
      "   ⚠️  Error processing column gender: \n",
      "   Processing column 9/14: plan_id\n"
     ]
    },
    {
     "data": {
      "application/vnd.jupyter.widget-view+json": {
       "model_id": "3e9d9197613d4827adee99a3bca94d69",
       "version_major": 2,
       "version_minor": 0
      },
      "text/plain": [
       "HBox(children=(IntProgress(value=0, bar_style='success'), Label(value='')))"
      ]
     },
     "metadata": {},
     "output_type": "display_data"
    },
    {
     "name": "stdout",
     "output_type": "stream",
     "text": [
      "   ⚠️  Error processing column plan_id: \n",
      "   Processing column 10/14: provider_id\n"
     ]
    },
    {
     "data": {
      "application/vnd.jupyter.widget-view+json": {
       "model_id": "e47aa4ce929446e4a0ef1f5dc56997fb",
       "version_major": 2,
       "version_minor": 0
      },
      "text/plain": [
       "HBox(children=(IntProgress(value=0, bar_style='success'), Label(value='')))"
      ]
     },
     "metadata": {},
     "output_type": "display_data"
    },
    {
     "name": "stdout",
     "output_type": "stream",
     "text": [
      "   ⚠️  Error processing column provider_id: \n",
      "   Processing column 11/14: provider_name\n"
     ]
    },
    {
     "data": {
      "application/vnd.jupyter.widget-view+json": {
       "model_id": "b09a9a6e63bf496bb3566a6e807210c7",
       "version_major": 2,
       "version_minor": 0
      },
      "text/plain": [
       "HBox(children=(IntProgress(value=0, bar_style='success'), Label(value='')))"
      ]
     },
     "metadata": {},
     "output_type": "display_data"
    },
    {
     "name": "stdout",
     "output_type": "stream",
     "text": [
      "   ⚠️  Error processing column provider_name: \n",
      "   Processing column 12/14: specialty\n"
     ]
    },
    {
     "data": {
      "application/vnd.jupyter.widget-view+json": {
       "model_id": "9398fb96f09a4df9b8d7dae02c242fcf",
       "version_major": 2,
       "version_minor": 0
      },
      "text/plain": [
       "HBox(children=(IntProgress(value=0, bar_style='success'), Label(value='')))"
      ]
     },
     "metadata": {},
     "output_type": "display_data"
    },
    {
     "name": "stdout",
     "output_type": "stream",
     "text": [
      "   ⚠️  Error processing column specialty: \n",
      "   Processing column 13/14: city\n"
     ]
    },
    {
     "data": {
      "application/vnd.jupyter.widget-view+json": {
       "model_id": "fae5a68cc1b443e2a9babfdc1ba89abb",
       "version_major": 2,
       "version_minor": 0
      },
      "text/plain": [
       "HBox(children=(IntProgress(value=0, bar_style='success'), Label(value='')))"
      ]
     },
     "metadata": {},
     "output_type": "display_data"
    },
    {
     "name": "stdout",
     "output_type": "stream",
     "text": [
      "   ⚠️  Error processing column city: \n",
      "   Processing column 14/14: state\n"
     ]
    },
    {
     "data": {
      "application/vnd.jupyter.widget-view+json": {
       "model_id": "d12746743dfe4cf5a3a83b202d2839a2",
       "version_major": 2,
       "version_minor": 0
      },
      "text/plain": [
       "HBox(children=(IntProgress(value=0, bar_style='success'), Label(value='')))"
      ]
     },
     "metadata": {},
     "output_type": "display_data"
    },
    {
     "name": "stdout",
     "output_type": "stream",
     "text": [
      "   ⚠️  Error processing column state: \n",
      "🔄 Creating missing values summary...\n",
      "🔄 Displaying results...\n"
     ]
    },
    {
     "data": {
      "application/vnd.jupyter.widget-view+json": {
       "model_id": "ffb5e5e4295f471ea573c366fcff1a78",
       "version_major": 2,
       "version_minor": 0
      },
      "text/plain": [
       "HBox(children=(IntProgress(value=0, bar_style='success'), Label(value='')))"
      ]
     },
     "metadata": {},
     "output_type": "display_data"
    },
    {
     "name": "stdout",
     "output_type": "stream",
     "text": [
      "+-------------+-------------+---------------+\n",
      "|Column       |Missing_Count|Missing_Percent|\n",
      "+-------------+-------------+---------------+\n",
      "|claim_date   |-1           |-1             |\n",
      "|total_charge |-1           |-1             |\n",
      "|first_name   |-1           |-1             |\n",
      "|last_name    |-1           |-1             |\n",
      "|plan_id      |-1           |-1             |\n",
      "|provider_id  |-1           |-1             |\n",
      "|city         |-1           |-1             |\n",
      "|state        |-1           |-1             |\n",
      "|claim_id     |-1           |-1             |\n",
      "|claim_status |-1           |-1             |\n",
      "|member_id    |-1           |-1             |\n",
      "|gender       |-1           |-1             |\n",
      "|provider_name|-1           |-1             |\n",
      "|specialty    |-1           |-1             |\n",
      "+-------------+-------------+---------------+\n",
      "\n"
     ]
    }
   ],
   "source": [
    "# Data Quality Dashboard - Similar to SAS PROC FREQ and PROC MEANS\n",
    "from pyspark.sql.functions import *\n",
    "from pyspark.sql.types import *\n",
    "\n",
    "def data_quality_report(df, table_name):\n",
    "    \"\"\"Comprehensive data quality report similar to SAS procedures\"\"\"\n",
    "    try:\n",
    "        print(f\"\\n📊 DATA QUALITY REPORT: {table_name}\")\n",
    "        print(\"=\" * 60)\n",
    "        \n",
    "        # Basic statistics\n",
    "        print(\"🔄 Calculating row count...\")\n",
    "        row_count = df.count()\n",
    "        col_count = len(df.columns)\n",
    "        print(f\"📈 Rows: {row_count:,} | Columns: {col_count}\")\n",
    "        \n",
    "        # Schema info\n",
    "        print(f\"\\n📋 SCHEMA INFORMATION:\")\n",
    "        df.printSchema()\n",
    "        \n",
    "        # Use a simpler approach with SQL for missing values analysis\n",
    "        print(f\"\\n🔍 MISSING VALUES ANALYSIS:\")\n",
    "        print(\"🔄 Using SQL approach for better compatibility...\")\n",
    "        \n",
    "        # Create a temporary view for SQL analysis\n",
    "        temp_view_name = f\"temp_{table_name}_dq\"\n",
    "        df.createOrReplaceTempView(temp_view_name)\n",
    "        \n",
    "        # Build SQL query to count nulls for all columns\n",
    "        null_check_queries = []\n",
    "        for column_name in df.columns:\n",
    "            # Escape column names that might be SQL keywords\n",
    "            escaped_col = f\"`{column_name}`\"\n",
    "            null_check_queries.append(f\"SUM(CASE WHEN {escaped_col} IS NULL THEN 1 ELSE 0 END) as {column_name}_nulls\")\n",
    "        \n",
    "        sql_query = f\"\"\"\n",
    "        SELECT \n",
    "            {', '.join(null_check_queries)}\n",
    "        FROM {temp_view_name}\n",
    "        \"\"\"\n",
    "        \n",
    "        print(\"🔄 Executing null count query...\")\n",
    "        null_counts = spark.sql(sql_query).collect()[0]\n",
    "        \n",
    "        # Format results\n",
    "        print(\"\\n📊 MISSING VALUES SUMMARY:\")\n",
    "        print(\"-\" * 50)\n",
    "        print(f\"{'Column':<20} {'Missing':<10} {'Percent':<10}\")\n",
    "        print(\"-\" * 50)\n",
    "        \n",
    "        missing_stats = []\n",
    "        for column_name in df.columns:\n",
    "            null_count = null_counts[f\"{column_name}_nulls\"]\n",
    "            null_pct = (null_count / row_count * 100) if row_count > 0 else 0\n",
    "            print(f\"{column_name:<20} {null_count:<10} {null_pct:<10.2f}%\")\n",
    "            missing_stats.append((column_name, null_count, round(null_pct, 2)))\n",
    "        \n",
    "        print(\"-\" * 50)\n",
    "        \n",
    "        # Clean up temp view\n",
    "        spark.sql(f\"DROP VIEW IF EXISTS {temp_view_name}\")\n",
    "        \n",
    "        return missing_stats\n",
    "        \n",
    "    except Exception as func_error:\n",
    "        print(f\"❌ Error in data_quality_report function: {func_error}\")\n",
    "        print(f\"📋 Error type: {type(func_error).__name__}\")\n",
    "        import traceback\n",
    "        print(f\"📋 Full traceback: {traceback.format_exc()}\")\n",
    "        return None\n",
    "\n",
    "# Run data quality report on our gold table\n",
    "# Check if table exists and debug any issues\n",
    "try:\n",
    "    print(\"🔍 Checking if table exists...\")\n",
    "    \n",
    "    # First, let's check the catalog and database\n",
    "    current_catalog = spark.sql(\"SELECT current_catalog()\").collect()[0][0]\n",
    "    current_database = spark.sql(\"SELECT current_database()\").collect()[0][0]\n",
    "    print(f\"📂 Current catalog: {current_catalog}\")\n",
    "    print(f\"📂 Current database: {current_database}\")\n",
    "    \n",
    "    # Try to access the table\n",
    "    print(\"📊 Attempting to access payer_gold.claims_enriched...\")\n",
    "    claims_df = spark.table(\"payer_gold.claims_enriched\")\n",
    "    print(\"✅ Table access successful!\")\n",
    "    \n",
    "    # Run the data quality report\n",
    "    print(\"🔬 Running data quality analysis...\")\n",
    "    dq_report = data_quality_report(claims_df, \"claims_enriched\")\n",
    "    \n",
    "except Exception as e:\n",
    "    print(f\"❌ Error details: {str(e)}\")\n",
    "    print(f\"📋 Error type: {type(e).__name__}\")\n",
    "    \n",
    "    # Let's try to list available tables to debug\n",
    "    try:\n",
    "        print(\"\\n🔍 Available tables in payer_gold:\")\n",
    "        tables = spark.sql(\"SHOW TABLES IN payer_gold\").collect()\n",
    "        for table in tables:\n",
    "            print(f\"   - {table.tableName}\")\n",
    "    except Exception as list_error:\n",
    "        print(f\"   Could not list tables: {list_error}\")\n",
    "    \n",
    "    print(\"\\n💡 Debug steps:\")\n",
    "    print(\"   1. Verify the catalog is set correctly\")\n",
    "    print(\"   2. Check if payer_gold database exists\")\n",
    "    print(\"   3. Ensure claims_enriched table was created successfully\")\n"
   ]
  },
  {
   "cell_type": "markdown",
   "id": "ee7a624e",
   "metadata": {},
   "source": [
    "### Numerical Data Profiling (Similar to SAS PROC MEANS)\n"
   ]
  },
  {
   "cell_type": "code",
   "execution_count": 24,
   "id": "2a895105",
   "metadata": {
    "vscode": {
     "languageId": "sql"
    }
   },
   "outputs": [
    {
     "data": {
      "application/vnd.jupyter.widget-view+json": {
       "model_id": "bb746497177349fcbd1104fe2c6f714b",
       "version_major": 2,
       "version_minor": 0
      },
      "text/plain": [
       "HBox(children=(IntProgress(value=0, bar_style='success'), Label(value='')))"
      ]
     },
     "metadata": {},
     "output_type": "display_data"
    },
    {
     "data": {
      "text/html": [
       "<table border=\"1\" class=\"dataframe\">\n",
       "  <thead>\n",
       "    <tr style=\"text-align: right;\">\n",
       "      <th></th>\n",
       "      <th>variable</th>\n",
       "      <th>n</th>\n",
       "      <th>n_non_missing</th>\n",
       "      <th>mean</th>\n",
       "      <th>std_dev</th>\n",
       "      <th>minimum</th>\n",
       "      <th>q1</th>\n",
       "      <th>median</th>\n",
       "      <th>q3</th>\n",
       "      <th>maximum</th>\n",
       "      <th>iqr</th>\n",
       "    </tr>\n",
       "  </thead>\n",
       "  <tbody>\n",
       "    <tr>\n",
       "      <th>0</th>\n",
       "      <td>total_charge</td>\n",
       "      <td>8</td>\n",
       "      <td>8</td>\n",
       "      <td>194.53</td>\n",
       "      <td>55.29</td>\n",
       "      <td>120.0</td>\n",
       "      <td>150.0</td>\n",
       "      <td>180.5</td>\n",
       "      <td>200.0</td>\n",
       "      <td>300.0</td>\n",
       "      <td>50.0</td>\n",
       "    </tr>\n",
       "  </tbody>\n",
       "</table>"
      ],
      "text/plain": [
       "DataFrame[variable: string, n: bigint, n_non_missing: bigint, mean: double, std_dev: double, minimum: double, q1: double, median: double, q3: double, maximum: double, iqr: double]"
      ]
     },
     "execution_count": 24,
     "metadata": {},
     "output_type": "execute_result"
    }
   ],
   "source": [
    "%sql\n",
    "-- Comprehensive statistical summary for numerical variables (like SAS PROC MEANS)\n",
    "SELECT \n",
    "\n",
    "  'total_charge' as variable,\n",
    "  COUNT(*) as n,\n",
    "  COUNT(total_charge) as n_non_missing,\n",
    "  ROUND(AVG(total_charge), 2) as mean,\n",
    "  ROUND(STDDEV(total_charge), 2) as std_dev,\n",
    "  MIN(total_charge) as minimum,\n",
    "  ROUND(PERCENTILE_APPROX(total_charge, 0.25), 2) as q1,\n",
    "  ROUND(PERCENTILE_APPROX(total_charge, 0.50), 2) as median,\n",
    "  ROUND(PERCENTILE_APPROX(total_charge, 0.75), 2) as q3,\n",
    "  MAX(total_charge) as maximum,\n",
    "  ROUND((PERCENTILE_APPROX(total_charge, 0.75) - PERCENTILE_APPROX(total_charge, 0.25)), 2) as iqr\n",
    "FROM payer_gold.claims_enriched\n"
   ]
  },
  {
   "cell_type": "markdown",
   "id": "2ed59d67",
   "metadata": {},
   "source": [
    "## Step 7: Advanced Healthcare Analytics\n",
    "**Business intelligence patterns familiar to payer analysts**\n",
    "\n",
    "### SAS-Style Cross Tabulation Analysis (PROC FREQ equivalent)\n"
   ]
  },
  {
   "cell_type": "code",
   "execution_count": 22,
   "id": "af4ecf8c",
   "metadata": {},
   "outputs": [
    {
     "data": {
      "application/vnd.jupyter.widget-view+json": {
       "model_id": "7a3f695c5f524f318ca623266ac48a8d",
       "version_major": 2,
       "version_minor": 0
      },
      "text/plain": [
       "HBox(children=(IntProgress(value=0, bar_style='success'), Label(value='')))"
      ]
     },
     "metadata": {},
     "output_type": "display_data"
    },
    {
     "data": {
      "text/html": [
       "<table border=\"1\" class=\"dataframe\">\n",
       "  <thead>\n",
       "    <tr style=\"text-align: right;\">\n",
       "      <th></th>\n",
       "      <th>gender</th>\n",
       "      <th>claim_status</th>\n",
       "      <th>frequency</th>\n",
       "      <th>sum_value</th>\n",
       "      <th>avg_value</th>\n",
       "    </tr>\n",
       "  </thead>\n",
       "  <tbody>\n",
       "    <tr>\n",
       "      <th>0</th>\n",
       "      <td>F</td>\n",
       "      <td>denied</td>\n",
       "      <td>2</td>\n",
       "      <td>376.00</td>\n",
       "      <td>188.00</td>\n",
       "    </tr>\n",
       "    <tr>\n",
       "      <th>1</th>\n",
       "      <td>F</td>\n",
       "      <td>paid</td>\n",
       "      <td>1</td>\n",
       "      <td>240.75</td>\n",
       "      <td>240.75</td>\n",
       "    </tr>\n",
       "    <tr>\n",
       "      <th>2</th>\n",
       "      <td>F</td>\n",
       "      <td>pending</td>\n",
       "      <td>1</td>\n",
       "      <td>180.50</td>\n",
       "      <td>180.50</td>\n",
       "    </tr>\n",
       "    <tr>\n",
       "      <th>3</th>\n",
       "      <td>M</td>\n",
       "      <td>paid</td>\n",
       "      <td>4</td>\n",
       "      <td>759.00</td>\n",
       "      <td>189.75</td>\n",
       "    </tr>\n",
       "  </tbody>\n",
       "</table>"
      ],
      "text/plain": [
       "DataFrame[gender: string, claim_status: string, frequency: bigint, sum_value: double, avg_value: double]"
      ]
     },
     "metadata": {},
     "output_type": "display_data"
    }
   ],
   "source": [
    "# Cross-tabulation with percentages (like SAS PROC FREQ)\n",
    "from pyspark.sql.functions import *\n",
    "\n",
    "def cross_tab_analysis(df, row_var, col_var, value_var=None):\n",
    "    \"\"\"Create cross-tabulation similar to SAS PROC FREQ\"\"\"\n",
    "    if value_var:\n",
    "        # With values (like SAS PROC FREQ with weight)\n",
    "        crosstab = df.groupBy(row_var, col_var).agg(\n",
    "            count(\"*\").alias(\"frequency\"),\n",
    "            sum(value_var).alias(\"sum_value\"),\n",
    "            avg(value_var).alias(\"avg_value\")\n",
    "        )\n",
    "    else:\n",
    "        # Simple frequency count\n",
    "        crosstab = df.groupBy(row_var, col_var).count().alias(\"frequency\")\n",
    "    \n",
    "    return crosstab\n",
    "\n",
    "# Claims by Status and Gender (similar to SAS: PROC FREQ DATA=claims; TABLES gender*claim_status;)\n",
    "crosstab_result = cross_tab_analysis(claims_df, \"gender\", \"claim_status\", \"total_charge\")\n",
    "display(crosstab_result.orderBy(\"gender\", \"claim_status\"))\n"
   ]
  },
  {
   "cell_type": "markdown",
   "id": "aaec866c",
   "metadata": {},
   "source": [
    "### Healthcare Utilization Analysis\n",
    "**Key metrics for payer operations**\n"
   ]
  },
  {
   "cell_type": "code",
   "execution_count": null,
   "id": "727b1fe9",
   "metadata": {},
   "outputs": [
    {
     "ename": "SyntaxError",
     "evalue": "invalid syntax (480258283.py, line 2)",
     "output_type": "error",
     "traceback": [
      "  \u001b[36mCell\u001b[39m\u001b[36m \u001b[39m\u001b[32mIn[25]\u001b[39m\u001b[32m, line 2\u001b[39m\n\u001b[31m    \u001b[39m\u001b[31mWITH member_utilization AS (\u001b[39m\n         ^\n\u001b[31mSyntaxError\u001b[39m\u001b[31m:\u001b[39m invalid syntax\n"
     ]
    }
   ],
   "source": [
    "-- Member utilization patterns (Per Member Per Month - PMPM calculations)\n",
    "WITH member_utilization AS (\n",
    "  SELECT \n",
    "    member_id,\n",
    "    gender,\n",
    "    plan_id,\n",
    "    COUNT(DISTINCT claim_id) as total_claims,\n",
    "    COUNT(DISTINCT MONTH(claim_date)) as active_months,\n",
    "    SUM(total_charge) as total_cost,\n",
    "    AVG(total_charge) as avg_claim_cost,\n",
    "    MAX(total_charge) as max_claim_cost,\n",
    "    COUNT(DISTINCT provider_id) as unique_providers,\n",
    "    COUNT(DISTINCT specialty) as unique_specialties\n",
    "  FROM payer_gold.claims_enriched\n",
    "  GROUP BY member_id, gender, plan_id\n",
    "),\n",
    "utilization_metrics AS (\n",
    "  SELECT \n",
    "    *,\n",
    "    CASE \n",
    "      WHEN active_months > 0 THEN ROUND(total_cost / active_months, 2)\n",
    "      ELSE 0 \n",
    "    END as pmpm_cost,\n",
    "    CASE \n",
    "      WHEN active_months > 0 THEN ROUND(total_claims / active_months, 2)\n",
    "      ELSE 0 \n",
    "    END as pmpm_claims,\n",
    "    CASE \n",
    "      WHEN total_claims > 5 THEN 'High Utilizer'\n",
    "      WHEN total_claims > 2 THEN 'Medium Utilizer'\n",
    "      ELSE 'Low Utilizer'\n",
    "    END as utilization_category\n",
    "  FROM member_utilization\n",
    ")\n",
    "SELECT * FROM utilization_metrics ORDER BY total_cost DESC\n"
   ]
  },
  {
   "cell_type": "markdown",
   "id": "ffe57579",
   "metadata": {},
   "source": [
    "### Risk Scoring & Segmentation\n",
    "**Predictive analytics for member risk assessment**\n"
   ]
  },
  {
   "cell_type": "code",
   "execution_count": null,
   "id": "045962f1",
   "metadata": {},
   "outputs": [
    {
     "data": {
      "application/vnd.jupyter.widget-view+json": {
       "model_id": "38b9895209d54f4c91e0289c43799d79",
       "version_major": 2,
       "version_minor": 0
      },
      "text/plain": [
       "HBox(children=(IntProgress(value=0, bar_style='success'), Label(value='')))"
      ]
     },
     "metadata": {},
     "output_type": "display_data"
    },
    {
     "data": {
      "text/html": [
       "<table border=\"1\" class=\"dataframe\">\n",
       "  <thead>\n",
       "    <tr style=\"text-align: right;\">\n",
       "      <th></th>\n",
       "      <th>claim_date</th>\n",
       "      <th>sum(total_charge)</th>\n",
       "    </tr>\n",
       "  </thead>\n",
       "  <tbody>\n",
       "    <tr>\n",
       "      <th>0</th>\n",
       "      <td>2023-01-10</td>\n",
       "      <td>120.00</td>\n",
       "    </tr>\n",
       "    <tr>\n",
       "      <th>1</th>\n",
       "      <td>2023-01-11</td>\n",
       "      <td>200.00</td>\n",
       "    </tr>\n",
       "    <tr>\n",
       "      <th>2</th>\n",
       "      <td>2023-01-12</td>\n",
       "      <td>300.00</td>\n",
       "    </tr>\n",
       "    <tr>\n",
       "      <th>3</th>\n",
       "      <td>2023-02-01</td>\n",
       "      <td>180.50</td>\n",
       "    </tr>\n",
       "    <tr>\n",
       "      <th>4</th>\n",
       "      <td>2023-02-13</td>\n",
       "      <td>240.75</td>\n",
       "    </tr>\n",
       "    <tr>\n",
       "      <th>5</th>\n",
       "      <td>2023-03-05</td>\n",
       "      <td>150.00</td>\n",
       "    </tr>\n",
       "    <tr>\n",
       "      <th>6</th>\n",
       "      <td>2023-03-10</td>\n",
       "      <td>176.00</td>\n",
       "    </tr>\n",
       "    <tr>\n",
       "      <th>7</th>\n",
       "      <td>2023-03-15</td>\n",
       "      <td>189.00</td>\n",
       "    </tr>\n",
       "  </tbody>\n",
       "</table>"
      ],
      "text/plain": [
       "DataFrame[claim_date: date, sum(total_charge): double]"
      ]
     },
     "metadata": {},
     "output_type": "display_data"
    }
   ],
   "source": [
    "-- Risk scoring based on multiple factors (similar to SAS scoring models)\n",
    "CREATE OR REPLACE TABLE payer_gold.member_risk_scores AS\n",
    "WITH member_metrics AS (\n",
    "  SELECT \n",
    "    member_id,\n",
    "    gender,\n",
    "    plan_id,\n",
    "    COUNT(DISTINCT claim_id) as claim_count,\n",
    "    SUM(total_charge) as total_cost,\n",
    "    AVG(total_charge) as avg_claim_cost,\n",
    "    COUNT(DISTINCT provider_id) as provider_count,\n",
    "    COUNT(DISTINCT specialty) as specialty_count,\n",
    "    COUNT(CASE WHEN claim_status = 'DENIED' THEN 1 END) as denied_claims,\n",
    "    DATEDIFF(CURRENT_DATE(), MAX(claim_date)) as days_since_last_claim\n",
    "  FROM payer_gold.claims_enriched\n",
    "  GROUP BY member_id, gender, plan_id\n",
    "),\n",
    "risk_calculations AS (\n",
    "  SELECT \n",
    "    *,\n",
    "    -- Risk factors with weights (customize based on actuarial analysis)\n",
    "    (claim_count * 0.3) + \n",
    "    (LEAST(total_cost / 1000, 10) * 0.4) + \n",
    "    (provider_count * 0.2) + \n",
    "    (denied_claims * 0.1) as raw_risk_score\n",
    "  FROM member_metrics\n",
    "),\n",
    "risk_segments AS (\n",
    "  SELECT \n",
    "    *,\n",
    "    ROUND(raw_risk_score, 2) as risk_score,\n",
    "    NTILE(5) OVER (ORDER BY raw_risk_score) as risk_quintile,\n",
    "    CASE \n",
    "      WHEN raw_risk_score > 8 THEN 'Very High Risk'\n",
    "      WHEN raw_risk_score > 6 THEN 'High Risk'\n",
    "      WHEN raw_risk_score > 4 THEN 'Medium Risk'\n",
    "      WHEN raw_risk_score > 2 THEN 'Low Risk'\n",
    "      ELSE 'Very Low Risk'\n",
    "    END as risk_category\n",
    "  FROM risk_calculations\n",
    ")\n",
    "SELECT * FROM risk_segments ORDER BY risk_score DESC;\n",
    "\n",
    "SELECT * FROM payer_gold.member_risk_scores LIMIT 10\n"
   ]
  },
  {
   "cell_type": "markdown",
   "id": "8be0b071",
   "metadata": {},
   "source": [
    "### Executive Dashboard KPIs\n",
    "**Key performance indicators for payer operations**\n"
   ]
  },
  {
   "cell_type": "code",
   "execution_count": null,
   "id": "dade1cfc",
   "metadata": {},
   "outputs": [
    {
     "data": {
      "application/vnd.jupyter.widget-view+json": {
       "model_id": "0ba83e5ee21745459f456a140e437677",
       "version_major": 2,
       "version_minor": 0
      },
      "text/plain": [
       "HBox(children=(IntProgress(value=0, bar_style='success'), Label(value='')))"
      ]
     },
     "metadata": {},
     "output_type": "display_data"
    },
    {
     "data": {
      "text/html": [
       "<table border=\"1\" class=\"dataframe\">\n",
       "  <thead>\n",
       "    <tr style=\"text-align: right;\">\n",
       "      <th></th>\n",
       "      <th>city</th>\n",
       "      <th>count</th>\n",
       "    </tr>\n",
       "  </thead>\n",
       "  <tbody>\n",
       "    <tr>\n",
       "      <th>0</th>\n",
       "      <td>Louisville</td>\n",
       "      <td>6</td>\n",
       "    </tr>\n",
       "    <tr>\n",
       "      <th>1</th>\n",
       "      <td>Lexington</td>\n",
       "      <td>2</td>\n",
       "    </tr>\n",
       "  </tbody>\n",
       "</table>"
      ],
      "text/plain": [
       "DataFrame[city: string, count: bigint]"
      ]
     },
     "metadata": {},
     "output_type": "display_data"
    }
   ],
   "source": [
    "-- Executive KPI Dashboard (similar to SAS Enterprise Guide dashboards)\n",
    "CREATE OR REPLACE TABLE payer_gold.executive_kpis AS\n",
    "WITH kpi_calculations AS (\n",
    "  SELECT \n",
    "    COUNT(DISTINCT member_id) as total_members,\n",
    "    COUNT(DISTINCT claim_id) as total_claims,\n",
    "    COUNT(DISTINCT provider_id) as total_providers,\n",
    "    SUM(total_charge) as total_medical_costs,\n",
    "    AVG(total_charge) as avg_claim_cost,\n",
    "    \n",
    "    -- Claims processing metrics\n",
    "    COUNT(CASE WHEN claim_status = 'PAID' THEN 1 END) as paid_claims,\n",
    "    COUNT(CASE WHEN claim_status = 'DENIED' THEN 1 END) as denied_claims,\n",
    "    COUNT(CASE WHEN claim_status = 'PENDING' THEN 1 END) as pending_claims,\n",
    "    \n",
    "    -- Financial metrics\n",
    "    SUM(CASE WHEN claim_status = 'PAID' THEN total_charge ELSE 0 END) as paid_amount,\n",
    "    SUM(CASE WHEN claim_status = 'DENIED' THEN total_charge ELSE 0 END) as denied_amount,\n",
    "    \n",
    "    -- Utilization by gender\n",
    "    COUNT(CASE WHEN gender = 'M' THEN 1 END) as male_claims,\n",
    "    COUNT(CASE WHEN gender = 'F' THEN 1 END) as female_claims,\n",
    "    \n",
    "    -- Top specialty costs\n",
    "    COUNT(CASE WHEN specialty = 'Cardiology' THEN 1 END) as cardiology_claims,\n",
    "    COUNT(CASE WHEN specialty = 'Family Practice' THEN 1 END) as family_practice_claims\n",
    "    \n",
    "  FROM payer_gold.claims_enriched\n",
    "),\n",
    "calculated_kpis AS (\n",
    "  SELECT \n",
    "    *,\n",
    "    ROUND((paid_claims * 100.0 / total_claims), 2) as paid_claims_rate,\n",
    "    ROUND((denied_claims * 100.0 / total_claims), 2) as denial_rate,\n",
    "    ROUND((pending_claims * 100.0 / total_claims), 2) as pending_rate,\n",
    "    ROUND((total_medical_costs / total_members), 2) as cost_per_member,\n",
    "    ROUND((total_claims * 1.0 / total_members), 2) as claims_per_member\n",
    "  FROM kpi_calculations\n",
    ")\n",
    "SELECT * FROM calculated_kpis;\n",
    "\n",
    "SELECT * FROM payer_gold.executive_kpis\n"
   ]
  },
  {
   "cell_type": "markdown",
   "id": "04447d70",
   "metadata": {},
   "source": [
    "## Step 8: SAS to Databricks Translation Guide\n",
    "**Common SAS procedures and their Databricks equivalents**\n"
   ]
  },
  {
   "cell_type": "code",
   "execution_count": null,
   "id": "911bbad0",
   "metadata": {},
   "outputs": [
    {
     "data": {
      "application/vnd.jupyter.widget-view+json": {
       "model_id": "d4c8d2e75a4f4c59abeeae4c213492b8",
       "version_major": 2,
       "version_minor": 0
      },
      "text/plain": [
       "HBox(children=(IntProgress(value=0, bar_style='success'), Label(value='')))"
      ]
     },
     "metadata": {},
     "output_type": "display_data"
    },
    {
     "data": {
      "text/html": [
       "<table border=\"1\" class=\"dataframe\">\n",
       "  <thead>\n",
       "    <tr style=\"text-align: right;\">\n",
       "      <th></th>\n",
       "      <th>total_charge</th>\n",
       "    </tr>\n",
       "  </thead>\n",
       "  <tbody>\n",
       "    <tr>\n",
       "      <th>0</th>\n",
       "      <td>120.00</td>\n",
       "    </tr>\n",
       "    <tr>\n",
       "      <th>1</th>\n",
       "      <td>180.50</td>\n",
       "    </tr>\n",
       "    <tr>\n",
       "      <th>2</th>\n",
       "      <td>200.00</td>\n",
       "    </tr>\n",
       "    <tr>\n",
       "      <th>3</th>\n",
       "      <td>176.00</td>\n",
       "    </tr>\n",
       "    <tr>\n",
       "      <th>4</th>\n",
       "      <td>300.00</td>\n",
       "    </tr>\n",
       "    <tr>\n",
       "      <th>5</th>\n",
       "      <td>240.75</td>\n",
       "    </tr>\n",
       "    <tr>\n",
       "      <th>6</th>\n",
       "      <td>189.00</td>\n",
       "    </tr>\n",
       "    <tr>\n",
       "      <th>7</th>\n",
       "      <td>150.00</td>\n",
       "    </tr>\n",
       "  </tbody>\n",
       "</table>"
      ],
      "text/plain": [
       "DataFrame[total_charge: double]"
      ]
     },
     "metadata": {},
     "output_type": "display_data"
    }
   ],
   "source": [
    "# SAS to Databricks Translation Examples for Healthcare Analytics\n",
    "\n",
    "def show_sas_translation():\n",
    "    \"\"\"Show common SAS procedures and their Databricks equivalents\"\"\"\n",
    "    \n",
    "    print(\"🔄 SAS TO DATABRICKS TRANSLATION GUIDE\")\n",
    "    print(\"=\" * 60)\n",
    "    \n",
    "    translations = [\n",
    "        {\n",
    "            \"sas_proc\": \"PROC FREQ\",\n",
    "            \"sas_code\": \"PROC FREQ DATA=claims; TABLES gender*claim_status;\",\n",
    "            \"databricks_sql\": \"\"\"\n",
    "SELECT gender, claim_status, COUNT(*) as frequency\n",
    "FROM payer_gold.claims_enriched \n",
    "GROUP BY gender, claim_status\n",
    "ORDER BY gender, claim_status\"\"\",\n",
    "            \"description\": \"Cross-tabulation frequency analysis\"\n",
    "        },\n",
    "        {\n",
    "            \"sas_proc\": \"PROC MEANS\",\n",
    "            \"sas_code\": \"PROC MEANS DATA=claims N MEAN STD MIN MAX; VAR total_charge;\",\n",
    "            \"databricks_sql\": \"\"\"\n",
    "SELECT \n",
    "  COUNT(*) as N,\n",
    "  ROUND(AVG(total_charge), 2) as MEAN,\n",
    "  ROUND(STDDEV(total_charge), 2) as STD,\n",
    "  MIN(total_charge) as MIN,\n",
    "  MAX(total_charge) as MAX\n",
    "FROM payer_gold.claims_enriched\"\"\",\n",
    "            \"description\": \"Descriptive statistics\"\n",
    "        },\n",
    "        {\n",
    "            \"sas_proc\": \"PROC SORT\",\n",
    "            \"sas_code\": \"PROC SORT DATA=claims; BY member_id claim_date;\",\n",
    "            \"databricks_sql\": \"\"\"\n",
    "SELECT * FROM payer_gold.claims_enriched\n",
    "ORDER BY member_id, claim_date\"\"\",\n",
    "            \"description\": \"Data sorting\"\n",
    "        },\n",
    "        {\n",
    "            \"sas_proc\": \"PROC SQL\",\n",
    "            \"sas_code\": \"PROC SQL; CREATE TABLE summary AS SELECT member_id, SUM(total_charge) as total FROM claims GROUP BY member_id;\",\n",
    "            \"databricks_sql\": \"\"\"\n",
    "CREATE OR REPLACE TABLE summary AS\n",
    "SELECT member_id, SUM(total_charge) as total \n",
    "FROM payer_gold.claims_enriched \n",
    "GROUP BY member_id\"\"\",\n",
    "            \"description\": \"SQL-based data manipulation\"\n",
    "        }\n",
    "    ]\n",
    "    \n",
    "    for i, trans in enumerate(translations, 1):\n",
    "        print(f\"\\n{i}. {trans['sas_proc']} - {trans['description']}\")\n",
    "        print(\"-\" * 40)\n",
    "        print(\"SAS Code:\")\n",
    "        print(trans['sas_code'])\n",
    "        print(\"\\nDatabricks Equivalent:\")\n",
    "        print(trans['databricks_sql'])\n",
    "        print()\n",
    "\n",
    "show_sas_translation()\n"
   ]
  },
  {
   "cell_type": "markdown",
   "id": "f9f897f7",
   "metadata": {},
   "source": [
    "### Advanced Statistical Analysis\n",
    "**Healthcare-specific statistical measures**\n"
   ]
  },
  {
   "cell_type": "code",
   "execution_count": null,
   "id": "7d3d2d1b",
   "metadata": {},
   "outputs": [
    {
     "data": {
      "application/vnd.jupyter.widget-view+json": {
       "model_id": "7376785e086446429a8b0ee58bec1454",
       "version_major": 2,
       "version_minor": 0
      },
      "text/plain": [
       "HBox(children=(IntProgress(value=0, bar_style='success'), Label(value='')))"
      ]
     },
     "metadata": {},
     "output_type": "display_data"
    },
    {
     "data": {
      "text/html": [
       "<table border=\"1\" class=\"dataframe\">\n",
       "  <thead>\n",
       "    <tr style=\"text-align: right;\">\n",
       "      <th></th>\n",
       "      <th>claim_date</th>\n",
       "      <th>total_charge</th>\n",
       "    </tr>\n",
       "  </thead>\n",
       "  <tbody>\n",
       "    <tr>\n",
       "      <th>0</th>\n",
       "      <td>2023-01-10</td>\n",
       "      <td>120.00</td>\n",
       "    </tr>\n",
       "    <tr>\n",
       "      <th>1</th>\n",
       "      <td>2023-02-01</td>\n",
       "      <td>180.50</td>\n",
       "    </tr>\n",
       "    <tr>\n",
       "      <th>2</th>\n",
       "      <td>2023-01-11</td>\n",
       "      <td>200.00</td>\n",
       "    </tr>\n",
       "    <tr>\n",
       "      <th>3</th>\n",
       "      <td>2023-03-10</td>\n",
       "      <td>176.00</td>\n",
       "    </tr>\n",
       "    <tr>\n",
       "      <th>4</th>\n",
       "      <td>2023-01-12</td>\n",
       "      <td>300.00</td>\n",
       "    </tr>\n",
       "    <tr>\n",
       "      <th>5</th>\n",
       "      <td>2023-02-13</td>\n",
       "      <td>240.75</td>\n",
       "    </tr>\n",
       "    <tr>\n",
       "      <th>6</th>\n",
       "      <td>2023-03-15</td>\n",
       "      <td>189.00</td>\n",
       "    </tr>\n",
       "    <tr>\n",
       "      <th>7</th>\n",
       "      <td>2023-03-05</td>\n",
       "      <td>150.00</td>\n",
       "    </tr>\n",
       "  </tbody>\n",
       "</table>"
      ],
      "text/plain": [
       "DataFrame[claim_date: date, total_charge: double]"
      ]
     },
     "metadata": {},
     "output_type": "display_data"
    }
   ],
   "source": [
    "-- Healthcare Industry KPIs and Statistical Analysis\n",
    "WITH healthcare_metrics AS (\n",
    "  SELECT \n",
    "    -- Medical Loss Ratio (MLR) components\n",
    "    plan_id,\n",
    "    gender,\n",
    "    specialty,\n",
    "    \n",
    "    -- Cost metrics\n",
    "    COUNT(DISTINCT claim_id) as claim_volume,\n",
    "    SUM(total_charge) as total_medical_costs,\n",
    "    AVG(total_charge) as avg_cost_per_claim,\n",
    "    PERCENTILE_APPROX(total_charge, 0.90) as cost_90th_percentile,\n",
    "    \n",
    "    -- Utilization metrics  \n",
    "    COUNT(DISTINCT member_id) as unique_members,\n",
    "    COUNT(DISTINCT provider_id) as unique_providers,\n",
    "    \n",
    "    -- Quality metrics\n",
    "    COUNT(CASE WHEN claim_status = 'DENIED' THEN 1 END) as denied_claims_count,\n",
    "    COUNT(CASE WHEN claim_status = 'PAID' THEN 1 END) as paid_claims_count,\n",
    "    \n",
    "    -- Time-based metrics\n",
    "    AVG(DATEDIFF(CURRENT_DATE(), claim_date)) as avg_days_since_service\n",
    "    \n",
    "  FROM payer_gold.claims_enriched\n",
    "  GROUP BY plan_id, gender, specialty\n",
    "),\n",
    "calculated_metrics AS (\n",
    "  SELECT \n",
    "    *,\n",
    "    -- Healthcare KPIs\n",
    "    ROUND(total_medical_costs / unique_members, 2) as cost_per_member,\n",
    "    ROUND(claim_volume * 1.0 / unique_members, 2) as claims_per_member,\n",
    "    ROUND(denied_claims_count * 100.0 / (denied_claims_count + paid_claims_count), 2) as denial_rate_pct,\n",
    "    \n",
    "    -- Statistical measures\n",
    "    ROUND(cost_90th_percentile / avg_cost_per_claim, 2) as cost_variability_ratio,\n",
    "    \n",
    "    -- Risk indicators\n",
    "    CASE \n",
    "      WHEN denied_claims_count * 100.0 / (denied_claims_count + paid_claims_count) > 20 THEN 'High Denial Risk'\n",
    "      WHEN total_medical_costs / unique_members > 500 THEN 'High Cost Risk'\n",
    "      ELSE 'Normal Risk'\n",
    "    END as risk_flag\n",
    "    \n",
    "  FROM healthcare_metrics\n",
    "  WHERE unique_members > 0  -- Avoid division by zero\n",
    ")\n",
    "SELECT * FROM calculated_metrics \n",
    "ORDER BY cost_per_member DESC\n"
   ]
  },
  {
   "cell_type": "markdown",
   "id": "b02a5561",
   "metadata": {},
   "source": [
    "## Step 9: Clinical Data Integration & Analysis\n",
    "**Working with diagnosis and procedure data**\n"
   ]
  },
  {
   "cell_type": "markdown",
   "id": "97ece5c5",
   "metadata": {},
   "source": [
    "### Create Enhanced Clinical Gold Tables\n"
   ]
  },
  {
   "cell_type": "code",
   "execution_count": null,
   "id": "cb479926",
   "metadata": {
    "vscode": {
     "languageId": "sql"
    }
   },
   "outputs": [],
   "source": [
    "-- First, create clean diagnosis and procedure tables in Silver layer\n",
    "CREATE OR REPLACE TABLE payer_silver.diagnosis AS\n",
    "SELECT DISTINCT\n",
    "  claim_id,\n",
    "  diagnosis_code,\n",
    "  TRIM(diagnosis_desc) as diagnosis_desc\n",
    "FROM payer_bronze.diagnosis_raw\n",
    "WHERE claim_id IS NOT NULL AND diagnosis_code IS NOT NULL;\n",
    "\n",
    "CREATE OR REPLACE TABLE payer_silver.procedures AS  \n",
    "SELECT DISTINCT\n",
    "  claim_id,\n",
    "  procedure_code,\n",
    "  TRIM(procedure_desc) as procedure_desc,\n",
    "  CAST(REGEXP_REPLACE(amount, '[^0-9.]', '') AS DECIMAL(10,2)) as procedure_amount\n",
    "FROM payer_bronze.procedures_raw\n",
    "WHERE claim_id IS NOT NULL AND procedure_code IS NOT NULL;\n"
   ]
  },
  {
   "cell_type": "code",
   "execution_count": null,
   "id": "b4d9c134",
   "metadata": {
    "vscode": {
     "languageId": "sql"
    }
   },
   "outputs": [],
   "source": [
    "-- Create comprehensive clinical analytics table\n",
    "CREATE OR REPLACE TABLE payer_gold.clinical_analytics AS\n",
    "SELECT \n",
    "  c.claim_id,\n",
    "  c.member_id,\n",
    "  c.provider_id,\n",
    "  c.claim_date,\n",
    "  c.total_charge,\n",
    "  c.claim_status,\n",
    "  c.gender,\n",
    "  c.plan_id,\n",
    "  c.specialty,\n",
    "  \n",
    "  -- Diagnosis information\n",
    "  d.diagnosis_code,\n",
    "  d.diagnosis_desc,\n",
    "  \n",
    "  -- Procedure information  \n",
    "  p.procedure_code,\n",
    "  p.procedure_desc,\n",
    "  p.procedure_amount,\n",
    "  \n",
    "  -- Clinical classifications\n",
    "  CASE \n",
    "    WHEN d.diagnosis_code LIKE 'E%' THEN 'Endocrine/Metabolic'\n",
    "    WHEN d.diagnosis_code LIKE 'I%' THEN 'Circulatory System'\n",
    "    WHEN d.diagnosis_code LIKE 'J%' THEN 'Respiratory System' \n",
    "    WHEN d.diagnosis_code LIKE 'M%' THEN 'Musculoskeletal'\n",
    "    WHEN d.diagnosis_code LIKE 'F%' THEN 'Mental/Behavioral'\n",
    "    WHEN d.diagnosis_code LIKE 'N%' THEN 'Genitourinary'\n",
    "    ELSE 'Other'\n",
    "  END as diagnosis_category,\n",
    "  \n",
    "  -- Procedure categories\n",
    "  CASE \n",
    "    WHEN p.procedure_code LIKE '99%' THEN 'Office/Outpatient Visits'\n",
    "    WHEN p.procedure_code LIKE '80%' OR p.procedure_code LIKE '87%' THEN 'Lab/Diagnostic'\n",
    "    WHEN p.procedure_code LIKE '71%' OR p.procedure_code LIKE '93%' THEN 'Radiology/Cardiology'\n",
    "    WHEN p.procedure_code LIKE '36%' THEN 'Blood Services'\n",
    "    ELSE 'Other Procedures'\n",
    "  END as procedure_category\n",
    "\n",
    "FROM payer_gold.claims_enriched c\n",
    "LEFT JOIN payer_silver.diagnosis d ON c.claim_id = d.claim_id  \n",
    "LEFT JOIN payer_silver.procedures p ON c.claim_id = p.claim_id\n"
   ]
  },
  {
   "cell_type": "markdown",
   "id": "8af74786",
   "metadata": {},
   "source": [
    "### Clinical Intelligence Reports\n"
   ]
  },
  {
   "cell_type": "code",
   "execution_count": null,
   "id": "bc1845f9",
   "metadata": {
    "vscode": {
     "languageId": "sql"
    }
   },
   "outputs": [],
   "source": [
    "-- Top diagnosis categories by cost and volume\n",
    "SELECT \n",
    "  diagnosis_category,\n",
    "  COUNT(DISTINCT claim_id) as claim_count,\n",
    "  COUNT(DISTINCT member_id) as member_count,\n",
    "  SUM(total_charge) as total_cost,\n",
    "  ROUND(AVG(total_charge), 2) as avg_cost_per_claim,\n",
    "  ROUND(SUM(total_charge) / COUNT(DISTINCT member_id), 2) as cost_per_member\n",
    "FROM payer_gold.clinical_analytics\n",
    "WHERE diagnosis_category IS NOT NULL\n",
    "GROUP BY diagnosis_category\n",
    "ORDER BY total_cost DESC\n"
   ]
  },
  {
   "cell_type": "markdown",
   "id": "4b925235",
   "metadata": {},
   "source": [
    "## Step 10: AI/BI Integration & Next Steps\n",
    "**Modern analytics capabilities for healthcare payers**\n"
   ]
  },
  {
   "cell_type": "markdown",
   "id": "97a8a114",
   "metadata": {},
   "source": [
    "### Databricks AI/BI Features for Healthcare Analytics\n",
    "\n",
    "**Intelligent analytics for everyone!**\n",
    "\n",
    "Databricks AI/BI enables self-service data analysis with:\n",
    "\n",
    "🤖 **Natural Language Queries**: Ask questions in plain English\n",
    "- \"What's the average cost per member by plan?\"\n",
    "- \"Which diagnosis codes have the highest denial rates?\"\n",
    "- \"Show me utilization trends by specialty\"\n",
    "\n",
    "📊 **Auto-Generated Dashboards**: Create visualizations automatically from your data\n",
    "\n",
    "🔍 **Semantic Layer**: AI understands your healthcare data context\n",
    "\n",
    "![AI/BI](https://www.databricks.com/sites/default/files/2025-05/hero-image-ai-bi-v2-2x.png)\n",
    "\n",
    "### Genie - Conversational Analytics\n",
    "\n",
    "Now everyone can get insights from data simply by asking questions in natural language.\n",
    "\n",
    "![Genie](https://www.databricks.com/sites/default/files/2025-06/ai-bi-genie-hero.png)\n",
    "\n",
    "### Try These AI Assistant Prompts:\n",
    "* \"What kind of aggregations can I do with table 'payer_gold.claims_enriched'?\"\n",
    "* \"Show me the top 5 most expensive claims by specialty\"\n",
    "* \"Which provider specialty has the highest average claim amount?\"\n",
    "* \"Create a chart showing denial rates by diagnosis category\"\n",
    "* \"What are the key performance indicators for this payer dataset?\"\n"
   ]
  },
  {
   "cell_type": "markdown",
   "id": "d5811106",
   "metadata": {},
   "source": [
    "### Healthcare Analytics Best Practices for SAS/ASA Professionals\n",
    "\n",
    "**📋 Transition Guide from SAS to Databricks:**\n",
    "\n",
    "1. **Data Processing Philosophy**\n",
    "   - SAS: Procedural, step-by-step processing\n",
    "   - Databricks: SQL-first with Spark parallel processing\n",
    "\n",
    "2. **Key Advantages for Healthcare Payers:**\n",
    "   - ⚡ **Scale**: Handle millions of claims instantly\n",
    "   - 💰 **Cost**: Pay only for what you use\n",
    "   - 🔄 **Real-time**: Stream processing for live claims\n",
    "   - 🤝 **Collaboration**: Share notebooks across teams\n",
    "   - 🛡️ **Security**: Healthcare-grade compliance (HIPAA)\n",
    "\n",
    "3. **Migration Strategy:**\n",
    "   - Start with familiar SQL syntax\n",
    "   - Gradually adopt Spark functions for complex transformations\n",
    "   - Use Databricks AutoML for predictive models\n",
    "   - Leverage AI/BI for self-service analytics\n",
    "\n",
    "4. **Next Steps:**\n",
    "   - Implement real-time claims processing\n",
    "   - Add machine learning for fraud detection\n",
    "   - Create automated regulatory reporting\n",
    "   - Build patient journey analytics\n",
    "   - Integrate with claims systems via APIs\n",
    "\n",
    "**💡 Remember**: This notebook demonstrates core patterns. Scale these approaches to your production healthcare data volumes!\n"
   ]
  },
  {
   "cell_type": "markdown",
   "id": "6f9e2de5",
   "metadata": {},
   "source": []
  }
 ],
 "metadata": {
  "kernelspec": {
   "display_name": "azure_databricks",
   "language": "python",
   "name": "python3"
  },
  "language_info": {
   "codemirror_mode": {
    "name": "ipython",
    "version": 3
   },
   "file_extension": ".py",
   "mimetype": "text/x-python",
   "name": "python",
   "nbconvert_exporter": "python",
   "pygments_lexer": "ipython3",
   "version": "3.12.0"
  }
 },
 "nbformat": 4,
 "nbformat_minor": 5
}
